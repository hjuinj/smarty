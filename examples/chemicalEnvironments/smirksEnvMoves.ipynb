{
 "cells": [
  {
   "cell_type": "code",
   "execution_count": 1,
   "metadata": {
    "collapsed": false
   },
   "outputs": [],
   "source": [
    "#!/usr/bin/env python\n",
    "# generic scientific/ipython header\n",
    "from __future__ import print_function\n",
    "from __future__ import division\n",
    "import os, sys\n",
    "import copy\n",
    "import numpy as np"
   ]
  },
  {
   "cell_type": "code",
   "execution_count": 2,
   "metadata": {
    "collapsed": true
   },
   "outputs": [],
   "source": [
    "import openeye.oechem as oechem"
   ]
  },
  {
   "cell_type": "markdown",
   "metadata": {},
   "source": [
    "### Load lib for chemical environments\n",
    "\n",
    "Note full path to the library over in the smarty git tree"
   ]
  },
  {
   "cell_type": "code",
   "execution_count": 39,
   "metadata": {
    "collapsed": false
   },
   "outputs": [],
   "source": [
    "#import imp\n",
    "#smirky = imp.load_source('environment','/Users/bannanc/gitHub/SMIRFF/smarty/smarty/environment.py')\n",
    "\n",
    "import smarty.environment as smirky"
   ]
  },
  {
   "cell_type": "markdown",
   "metadata": {},
   "source": [
    "### Chemical groups we might use"
   ]
  },
  {
   "cell_type": "code",
   "execution_count": 5,
   "metadata": {
    "collapsed": true
   },
   "outputs": [],
   "source": [
    "chemGroups = [ ('ewg1', '[#7,#8!-1,#16!-1,F,Cl,Br,I]'),\n",
    "               ('ewg1di', '[#7!X1,#8!X1,#16!X1]') ]"
   ]
  },
  {
   "cell_type": "markdown",
   "metadata": {},
   "source": [
    "## Section 1: NetworkxMol Chemical Environments from SMIRKS components\n",
    "### atom and bond sublists as components for NetworkxMol fragments\n",
    "these can be convenient to initialiaze NetworkxMol torsion, angle, improper, bond, vdW params"
   ]
  },
  {
   "cell_type": "code",
   "execution_count": 6,
   "metadata": {
    "collapsed": false
   },
   "outputs": [],
   "source": [
    "# Sublists\n",
    "A_any = [None,None]\n",
    "A_C = [ ['#6'], None]\n",
    "A_Ctet = [ ['#6X4'], None]\n",
    "A_O = [ ['#8'], None]\n",
    "A_OEth = [ ['#8X2'], ['H0','+0']]\n",
    "A_OH = [ ['#8X2'], ['H1','+0'] ]\n",
    "A_H = [ ['H'], None]\n",
    "Bsngl = [ ['-'], None]\n",
    "BnoRing = [ ['!@'], None]\n",
    "B_any = [ None, None]"
   ]
  },
  {
   "cell_type": "markdown",
   "metadata": {},
   "source": [
    "### Testing NetworkxMol Chemical Environments API\n",
    "Build test torsion, angle, bond, vdW params (ToDo: impropers)\n",
    "* These will also be used as starting points for 'moves': reasonable changes to the NetworkxMol"
   ]
  },
  {
   "cell_type": "code",
   "execution_count": 7,
   "metadata": {
    "collapsed": false
   },
   "outputs": [
    {
     "name": "stdout",
     "output_type": "stream",
     "text": [
      "[#8X2;H0;+0:1]~[#6X4:2]-[#8:3]~[*:4]\n"
     ]
    }
   ],
   "source": [
    "# specific torsions from sublists\n",
    "torsionEnv2 = smirky.TorsionChemicalEnvironment( A_Ctet,B_any,A_Ctet,Bsngl,A_OH,B_any,A_any )\n",
    "torsionEnv3 = smirky.TorsionChemicalEnvironment( A_OEth,B_any,A_Ctet,Bsngl,A_OH,B_any,A_any )\n",
    "torsionEnv4 = smirky.TorsionChemicalEnvironment( A_OEth,B_any,A_Ctet,Bsngl,A_O,B_any,A_any )\n",
    "print( torsionEnv4.asSMIRKS() )"
   ]
  },
  {
   "cell_type": "code",
   "execution_count": 8,
   "metadata": {
    "collapsed": false
   },
   "outputs": [
    {
     "name": "stdout",
     "output_type": "stream",
     "text": [
      "[#6X4:1]~[#6X4:2]!@[#6X4:3]\n"
     ]
    }
   ],
   "source": [
    "# specific angles from sublists \n",
    "angEnv1 = smirky.AngleChemicalEnvironment( A_OEth,B_any,A_Ctet,Bsngl,A_OH)\n",
    "angEnv2 = smirky.AngleChemicalEnvironment( A_Ctet,B_any,A_Ctet,Bsngl,A_Ctet)\n",
    "angEnv3 = smirky.AngleChemicalEnvironment( A_Ctet,B_any,A_Ctet,BnoRing,A_Ctet)\n",
    "print( angEnv3.asSMIRKS() )"
   ]
  },
  {
   "cell_type": "code",
   "execution_count": 9,
   "metadata": {
    "collapsed": false
   },
   "outputs": [
    {
     "name": "stdout",
     "output_type": "stream",
     "text": [
      "[#8:1](-[#6X4]~[#8X2;H0;+0])~[*:2]\n"
     ]
    }
   ],
   "source": [
    "# specific bonds from sublists \n",
    "bondEnv1 = smirky.BondChemicalEnvironment( A_OEth,B_any,A_Ctet)\n",
    "bondEnv2 = smirky.BondChemicalEnvironment( A_OEth,BnoRing,A_Ctet)\n",
    "bondEnv3 = smirky.BondChemicalEnvironment( A_H,Bsngl,A_Ctet)\n",
    "bondEnv4 = smirky.ChemicalEnvironment( '[*:2]~[#8:1]-[#6X4]~[#8X2;H0;+0]' )\n",
    "print( bondEnv4.asSMIRKS() )"
   ]
  },
  {
   "cell_type": "code",
   "execution_count": 10,
   "metadata": {
    "collapsed": false
   },
   "outputs": [
    {
     "name": "stdout",
     "output_type": "stream",
     "text": [
      "[#1:1]-[#6](-[#7X4+1])(-[#8X2H0])-[#9]\n"
     ]
    }
   ],
   "source": [
    "# specific vdW from sublists \n",
    "atomEnv1 = smirky.AtomChemicalEnvironment( A_OEth)\n",
    "atomEnv2 = smirky.AtomChemicalEnvironment( A_Ctet)\n",
    "atomEnv3 = smirky.AtomChemicalEnvironment( A_H)\n",
    "atomH3 = smirky.ChemicalEnvironment( '[#1:1]-[#6](-[#7X4+1])(-[#8X2H0])-[#9]')\n",
    "print( atomH3.asSMIRKS() )"
   ]
  },
  {
   "cell_type": "code",
   "execution_count": 11,
   "metadata": {
    "collapsed": false
   },
   "outputs": [
    {
     "name": "stdout",
     "output_type": "stream",
     "text": [
      "[#8X2;H0;+0:1]~[#6X4:2]-[#8:3]~[*:4]\n",
      "['#8X2']\n",
      "['H0', '+0']\n",
      "Selected atom :  4 [] []\n",
      "3 ['#8'] []\n",
      "4 [] []\n",
      "1 ['#8X2'] ['H0', '+0']\n",
      "2 ['#6X4'] []\n",
      "['-']\n",
      "[]\n"
     ]
    }
   ],
   "source": [
    "# Testing API for retrieval of NetworkxMol vertices (atoms) and edges (bonds)\n",
    "# This will be used to make moves in chemical space (ie change the NetworkxMol)\n",
    "torsion = torsionEnv4\n",
    "print( torsion.asSMIRKS() )\n",
    "print( torsion.atom1.getORtypes() )\n",
    "print( torsion.atom1.getANDtypes() )\n",
    "atom1 = torsion.selectAtom( 4)\n",
    "print('Selected atom : ',atom1.index, atom1.getORtypes(), atom1.getANDtypes() )\n",
    "atmlist = torsion.getAtoms()\n",
    "for atom in atmlist:\n",
    "    print(atom.index, atom.getORtypes(), atom.getANDtypes() )\n",
    "bond2 = torsion.getBond(torsion.atom2,torsion.atom3)\n",
    "print( bond2.getORtypes() )\n",
    "print( bond2.getANDtypes() )"
   ]
  },
  {
   "cell_type": "code",
   "execution_count": 12,
   "metadata": {
    "collapsed": false
   },
   "outputs": [
    {
     "name": "stdout",
     "output_type": "stream",
     "text": [
      "[#8:1](-[#6X4]~[#8X2;H0;+0])~[*:2]\n",
      "bond firstAtom 1 ['#8'] []\n",
      "bond secondAtom None ['#6X4'] []\n",
      "['-']\n",
      "bond firstAtom 1 ['#8'] []\n",
      "bond secondAtom 2 [] []\n",
      "[]\n",
      "bond firstAtom None ['#8X2'] ['H0', '+0']\n",
      "bond secondAtom None ['#6X4'] []\n",
      "[]\n"
     ]
    }
   ],
   "source": [
    "# API for getting bond info is a little trickier to use if you want a particular indexed bond\n",
    "#param = smirky.ChemicalEnvironment( '[#8X2;H0;+0:1]!@[#6X4:2]' )\n",
    "param = bondEnv4\n",
    "print( param.asSMIRKS() )\n",
    "# bond1 is the bond between indexed atoms 1 and 2. Here is how I would like to find it:\n",
    "#firstAtom = param.selectAtom(1)\n",
    "#secondAtom = param.selectAtom(2)\n",
    "#print( 'firstAtom', firstAtom.index, firstAtom.getORtypes(), firstAtom.getANDtypes())\n",
    "#print( 'secondAtom', secondAtom.index, secondAtom.getORtypes(), secondAtom.getANDtypes())\n",
    "# on 2016aug20 this errors: bond = testBond.selectBond( firstAtom, secondAtom)\n",
    "# print( bond.getORtypes() )\n",
    "#\n",
    "# currently we must find a particular bond (eg bond1) in a list of all bonds\n",
    "for bond in param.getBonds():\n",
    "    #print( bond)\n",
    "    firstAtom = bond[0]\n",
    "    secondAtom = bond[1]\n",
    "    print( 'bond firstAtom', firstAtom.index, firstAtom.getORtypes(), firstAtom.getANDtypes())\n",
    "    print( 'bond secondAtom', secondAtom.index, secondAtom.getORtypes(), secondAtom.getANDtypes())\n",
    "    print( bond[2].getORtypes() )\n",
    "# note firstAtom.index can be greater than secondAtom.index"
   ]
  },
  {
   "cell_type": "markdown",
   "metadata": {},
   "source": [
    "## Section 2: SMIRKS chemical components for chemical moves on NetworkxMols\n",
    "* create different classes of chemical components as separate lists\n",
    "* associate odds with each component so that some moves will be preferred over overs\n",
    "* compose dicts of componentsWithOdds for atoms and bonds, each with their own classes of components\n",
    "* massage those odds componentsWithOdds dicts into weights in componentsWithWeights dicts which\n",
    "will be directly used by numpy's random.choice() method to make weighted random choices."
   ]
  },
  {
   "cell_type": "code",
   "execution_count": 13,
   "metadata": {
    "collapsed": false
   },
   "outputs": [],
   "source": [
    "# Generic move lists without odds (initial guess), reformat below\n",
    "ChemComponents = {}\n",
    "ChemComponents['AtmBase'] = ['','#1','#5','#6','#7','#8','#9','#15','#16','#17','#35','#53']\n",
    "ChemComponents['AtmORdecs'] = ['','X4','X3','X2','X1']\n",
    "ChemComponents['AtmAndDecs'] = ['H0','+0',]\n",
    "ChemComponents['BondBase'] = ['-',':','=','#','~']\n",
    "ChemComponents['BondANDDecs'] = ['@','!@','!#']"
   ]
  },
  {
   "cell_type": "code",
   "execution_count": 14,
   "metadata": {
    "collapsed": true
   },
   "outputs": [],
   "source": [
    "# To reformat ChemComponents dict as tuples representing odds for each item,\n",
    "# uncomment and run this block.\n",
    "#for key in ChemComponents.keys():\n",
    "#    print('ChemComponentsWithOdds[\\'%s\\'] = [' % key)\n",
    "#    for item in ChemComponents[key]:\n",
    "#        print(' (\\'%s\\', 1),' % item )\n",
    "#    print(' ]')"
   ]
  },
  {
   "cell_type": "markdown",
   "metadata": {},
   "source": [
    "#### For Future:\n",
    "Decorators need weights, and they need to be weighted differently for different atomic elements. \n",
    "Guessed examples based on experience with organic chemistry:\n",
    "    \n",
    "--------\n",
    "* C [ ('X4', 20), ('X3', 20), ('X2', 5), ('X1', 1), ]\n",
    "* N [ ('X4', 10), ('X3', 10), ('X2', 10), ('X1', 1), ]\n",
    "* O [ ('X4', 0), ('X3', 1), ('X2', 20), ('X1', 20), ]\n",
    "* H,F,Cl,Br,I [ don't use this decorator on this atom ]\n",
    "---------\n",
    "* C [ ('H0', 1), ('H1', 1), ('H2', 1), ('H3', 1) ]\n",
    "* N [ ('H0', 1), ('H1', 1), ('H2', 1), ('H3', 1) ]\n",
    "* O [ ('H0', 20), ('H1', 20), ('H2', 1), ('H3', 0) ]\n",
    "* H,F,Cl,Br,I [ don't use this decorator on this atom ]\n",
    "---------\n",
    "* C [ ('-1', 1), ('+0', 50), ('+1', 0) ]\n",
    "* N [ ('-1', 1), ('+0', 20), ('+1', 5) ]\n",
    "* O [ ('-1', 10), ('+0', 50), ('+1', 1) ]\n",
    "* H,F,Cl,Br,I [ don't use this decorator on this atom ]"
   ]
  },
  {
   "cell_type": "code",
   "execution_count": 15,
   "metadata": {
    "collapsed": true
   },
   "outputs": [],
   "source": [
    "# General\n",
    "atomComponentsWithOdds = {}\n",
    "atomComponentsWithOdds['Basetypes'] = [\n",
    " ('#1', 10),\n",
    " ('#5', 10),\n",
    " ('#6', 10),\n",
    " ('#7', 10),\n",
    " ('#8', 10),\n",
    " ('#9', 1),\n",
    " ('#15', 2),\n",
    " ('#16', 4),\n",
    " ('#17', 1),\n",
    " ('#35', 1),\n",
    " ('#53', 1),\n",
    " ]\n",
    "atomComponentsWithOdds['ORdecs'] = [ ('', 4), \n",
    "                                       ('X4', 4), ('X3', 4), ('X2', 4), ('X1', 4), \n",
    "                                       ('H3', 1), ('H2', 1), ('H1', 1), ('H0', 1)\n",
    "                                      ]\n",
    "# these AtmAndDecs are dummies just to get going; real chemistry puts H-count on each atom\n",
    "atomComponentsWithOdds['ANDdecs'] = [ ('H0', 1), ('+0', 1), ]\n",
    "\n",
    "bondComponentsWithOdds = {}\n",
    "bondComponentsWithOdds['Basetypes'] = [ ('-', 1), (':', 1), ('=', 1), ('#', 1), ('~', 1), ]\n",
    "bondComponentsWithOdds['ORdecs'] = []\n",
    "bondComponentsWithOdds['ANDdecs'] = [ ('@', 1), ('!@', 1), ('!#', 1), ]"
   ]
  },
  {
   "cell_type": "code",
   "execution_count": 16,
   "metadata": {
    "collapsed": false
   },
   "outputs": [],
   "source": [
    "# for AlkEthOH\n",
    "atomComponentsWithOdds = {}\n",
    "atomComponentsWithOdds['Basetypes'] = [\n",
    " ('#1', 1),\n",
    " ('#5', 0),\n",
    " ('#6', 1),\n",
    " ('#7', 0),\n",
    " ('#8', 1),\n",
    " ('#9', 0),\n",
    " ('#15', 0),\n",
    " ('#16', 0),\n",
    " ('#17', 0),\n",
    " ('#35', 0),\n",
    " ('#53', 0),\n",
    " ]\n",
    "atomComponentsWithOdds['ORdecs'] = [ ('', 4), \n",
    "                                       ('X4', 4), ('X3', 4), ('X2', 4), ('X1', 4), \n",
    "                                       ('H3', 1), ('H2', 1), ('H1', 1), ('H0', 1)\n",
    "                                      ]\n",
    "# these AtmAndDecs are dummies just to get going; real chemistry puts H-count on each atom\n",
    "atomComponentsWithOdds['ANDdecs'] = [ ('H0', 1), ('+0', 1), ]\n",
    "\n",
    "bondComponentsWithOdds = {}\n",
    "bondComponentsWithOdds['Basetypes'] = [ ('-', 1), (':', 0), ('=', 0), ('#', 0), ('~', 1), ]\n",
    "# TODO: determine how to handle ~ case, do we want to have it in the list or have a None option of some kind?\n",
    "bondComponentsWithOdds['ORdecs'] = []\n",
    "bondComponentsWithOdds['ANDdecs'] = [ ('@', 1), ('!@', 1), ('!#', 0), ]"
   ]
  },
  {
   "cell_type": "markdown",
   "metadata": {},
   "source": [
    "#### The following function movesWithWeightsFromOdds is copied from iPython notebook EnvMovesTypesAndWeights:"
   ]
  },
  {
   "cell_type": "code",
   "execution_count": 55,
   "metadata": {
    "collapsed": false
   },
   "outputs": [],
   "source": [
    "# function copied from EnvMovesTypesAndWeights\n",
    "def movesWithWeightsFromOdds( MovesWithOdds):\n",
    "    '''Processes a dictionary of movesWithOdds (lists of string/integer tuples)\n",
    "    into a dictionary of movesWithWeights usable to perform weighted\n",
    "    random choices with numpy's random.choice() function.\n",
    "    Argument: a MovesWithOdds dictionary of lists of string/integer tuples\n",
    "    Returns: a MovesWithWeights dictionary of pairs of a moveType-list with a \n",
    "            probabilites-list, the latter used by numpy's random.choice() function.'''\n",
    "    movesWithWeights = {}\n",
    "    for key in MovesWithOdds.keys():\n",
    "        moves = [ item[0] for item in MovesWithOdds[key] ]\n",
    "        odds =  [ item[1] for item in MovesWithOdds[key] ]\n",
    "        weights = odds/np.sum(odds)\n",
    "        #print( key, moves, odds, weights)\n",
    "        movesWithWeights[key] = ( moves, weights)\n",
    "    return movesWithWeights\n"
   ]
  },
  {
   "cell_type": "markdown",
   "metadata": {},
   "source": [
    "#### Generate the Weights dict from the Odds dict for each of atoms and bonds components, then combine those into a master dict that has both"
   ]
  },
  {
   "cell_type": "code",
   "execution_count": 18,
   "metadata": {
    "collapsed": true
   },
   "outputs": [],
   "source": [
    "#print( ChemComponentsWithWeights)\n",
    "atomComponentsWithWeights = movesWithWeightsFromOdds(atomComponentsWithOdds)\n",
    "#print( 'atomComponentsWithWeights', atomComponentsWithWeights)\n",
    "bondComponentsWithWeights = movesWithWeightsFromOdds(bondComponentsWithOdds)\n",
    "#print( 'bondComponentsWithWeights', bondComponentsWithWeights)\n",
    "masterComponentsWithWeights = { 'atom':atomComponentsWithWeights,\n",
    "                                'bond':bondComponentsWithWeights}\n",
    "#print( 'masterComponentsWithWeights', masterComponentsWithWeights)"
   ]
  },
  {
   "cell_type": "markdown",
   "metadata": {},
   "source": [
    "## Section 3: Read file of candidate chemical moves and filter out a priori bad ones\n",
    "* a candidate chemical move is a list composed of four micro-moves, each of a different type\n",
    "* when the candidate chemical move was constructed from weighted choices, an overall probability was associated with it\n",
    "* some candidate moves are not viable, such as adding an atom to a bond. These are weeded out after the list is read in"
   ]
  },
  {
   "cell_type": "code",
   "execution_count": 19,
   "metadata": {
    "collapsed": true
   },
   "outputs": [],
   "source": [
    "def EnvMoveIsWellFormed( moveDict, msg=''):\n",
    "    '''Checks moveDict (dict of proposed chem env micro-moves) to see if\n",
    "    it is well-formed (i.e. before even looking at the chemical graph),\n",
    "    returning True unless there is an obvious problem.\n",
    "    Arguments: \n",
    "        moveDict: a dict of strings constituting proposed micro-moves of a chem env move.\n",
    "        msg: an informative message about the nature of the problem.\n",
    "    Returns True unless it finds a problem'''\n",
    "    if moveDict['action']=='joinAtom':\n",
    "        if moveDict['atomOrBond']=='bond':\n",
    "            msg = 'cannot join another atom to an existing bond'\n",
    "            return False\n",
    "        elif moveDict['ANDorOR']=='ANDtype':\n",
    "            msg = 'can only join another atom as an ORtype'\n",
    "            return False\n",
    "    return True"
   ]
  },
  {
   "cell_type": "code",
   "execution_count": 20,
   "metadata": {
    "collapsed": false
   },
   "outputs": [
    {
     "name": "stdout",
     "output_type": "stream",
     "text": [
      "EnvMoveIsWellFormed says reject: {'action': 'joinAtom', 'atomOrBond': 'atom', 'whichAtmBnd': 'atom1', 'ANDorOR': 'ANDtype'} 0.013858\n",
      "EnvMoveIsWellFormed says reject: {'action': 'joinAtom', 'atomOrBond': 'atom', 'whichAtmBnd': 'atom2', 'ANDorOR': 'ANDtype'} 0.001386\n",
      "EnvMoveIsWellFormed says reject: {'action': 'joinAtom', 'atomOrBond': 'atom', 'whichAtmBnd': 'atom3', 'ANDorOR': 'ANDtype'} 0.013858\n",
      "EnvMoveIsWellFormed says reject: {'action': 'joinAtom', 'atomOrBond': 'atom', 'whichAtmBnd': 'unIndexed', 'ANDorOR': 'ANDtype'} 0.027716\n",
      "EnvMoveIsWellFormed says reject: {'action': 'joinAtom', 'atomOrBond': 'bond', 'whichAtmBnd': 'bond1', 'ANDorOR': 'ANDtype'} 0.000473\n",
      "EnvMoveIsWellFormed says reject: {'action': 'joinAtom', 'atomOrBond': 'bond', 'whichAtmBnd': 'bond1', 'ANDorOR': 'ORtype'} 0.001420\n",
      "EnvMoveIsWellFormed says reject: {'action': 'joinAtom', 'atomOrBond': 'bond', 'whichAtmBnd': 'bond2', 'ANDorOR': 'ANDtype'} 0.000473\n",
      "EnvMoveIsWellFormed says reject: {'action': 'joinAtom', 'atomOrBond': 'bond', 'whichAtmBnd': 'bond2', 'ANDorOR': 'ORtype'} 0.001420\n",
      "EnvMoveIsWellFormed says reject: {'action': 'joinAtom', 'atomOrBond': 'bond', 'whichAtmBnd': 'unIndexed', 'ANDorOR': 'ANDtype'} 0.004735\n",
      "EnvMoveIsWellFormed says reject: {'action': 'joinAtom', 'atomOrBond': 'bond', 'whichAtmBnd': 'unIndexed', 'ANDorOR': 'ORtype'} 0.014205\n"
     ]
    }
   ],
   "source": [
    "moveDictFilename = 'moveTrees.uniq.Angle.txt'\n",
    "moveDictFile = open(moveDictFilename)\n",
    "moveDictdb = []\n",
    "for line in moveDictFile:\n",
    "    fields = line.split()\n",
    "    prob = fields[0]\n",
    "    moveDict = { 'action' : fields[1],\n",
    "               'atomOrBond' : fields[2],\n",
    "               'whichAtmBnd' : fields[3],\n",
    "               'ANDorOR' : fields[4],\n",
    "              }\n",
    "    if EnvMoveIsWellFormed(moveDict):\n",
    "        moveDictdb.append( (moveDict, prob) )\n",
    "    else:\n",
    "        print( 'EnvMoveIsWellFormed says reject:', moveDict, prob)\n",
    "moveDictFile.close()"
   ]
  },
  {
   "cell_type": "code",
   "execution_count": 21,
   "metadata": {
    "collapsed": false
   },
   "outputs": [
    {
     "name": "stdout",
     "output_type": "stream",
     "text": [
      "46\n",
      "0 True {'action': 'add', 'atomOrBond': 'atom', 'whichAtmBnd': 'atom1', 'ANDorOR': 'ANDtype'} 0.013858\n",
      "1 True {'action': 'add', 'atomOrBond': 'atom', 'whichAtmBnd': 'atom1', 'ANDorOR': 'ORtype'} 0.041574\n",
      "2 True {'action': 'add', 'atomOrBond': 'atom', 'whichAtmBnd': 'atom2', 'ANDorOR': 'ANDtype'} 0.001386\n",
      "3 True {'action': 'add', 'atomOrBond': 'atom', 'whichAtmBnd': 'atom2', 'ANDorOR': 'ORtype'} 0.004157\n",
      "4 True {'action': 'add', 'atomOrBond': 'atom', 'whichAtmBnd': 'atom3', 'ANDorOR': 'ANDtype'} 0.013858\n",
      "5 True {'action': 'add', 'atomOrBond': 'atom', 'whichAtmBnd': 'atom3', 'ANDorOR': 'ORtype'} 0.041574\n",
      "6 True {'action': 'add', 'atomOrBond': 'atom', 'whichAtmBnd': 'unIndexed', 'ANDorOR': 'ANDtype'} 0.027716\n",
      "7 True {'action': 'add', 'atomOrBond': 'atom', 'whichAtmBnd': 'unIndexed', 'ANDorOR': 'ORtype'} 0.083149\n",
      "8 True {'action': 'add', 'atomOrBond': 'bond', 'whichAtmBnd': 'bond1', 'ANDorOR': 'ANDtype'} 0.000473\n",
      "9 True {'action': 'add', 'atomOrBond': 'bond', 'whichAtmBnd': 'bond1', 'ANDorOR': 'ORtype'} 0.001420\n",
      "10 True {'action': 'add', 'atomOrBond': 'bond', 'whichAtmBnd': 'bond2', 'ANDorOR': 'ANDtype'} 0.000473\n",
      "11 True {'action': 'add', 'atomOrBond': 'bond', 'whichAtmBnd': 'bond2', 'ANDorOR': 'ORtype'} 0.001420\n",
      "12 True {'action': 'add', 'atomOrBond': 'bond', 'whichAtmBnd': 'unIndexed', 'ANDorOR': 'ANDtype'} 0.004735\n",
      "13 True {'action': 'add', 'atomOrBond': 'bond', 'whichAtmBnd': 'unIndexed', 'ANDorOR': 'ORtype'} 0.014205\n",
      "14 True {'action': 'delete', 'atomOrBond': 'atom', 'whichAtmBnd': 'atom1', 'ANDorOR': 'ANDtype'} 0.013858\n",
      "15 True {'action': 'delete', 'atomOrBond': 'atom', 'whichAtmBnd': 'atom1', 'ANDorOR': 'ORtype'} 0.041574\n",
      "16 True {'action': 'delete', 'atomOrBond': 'atom', 'whichAtmBnd': 'atom2', 'ANDorOR': 'ANDtype'} 0.001386\n",
      "17 True {'action': 'delete', 'atomOrBond': 'atom', 'whichAtmBnd': 'atom2', 'ANDorOR': 'ORtype'} 0.004157\n",
      "18 True {'action': 'delete', 'atomOrBond': 'atom', 'whichAtmBnd': 'atom3', 'ANDorOR': 'ANDtype'} 0.013858\n",
      "19 True {'action': 'delete', 'atomOrBond': 'atom', 'whichAtmBnd': 'atom3', 'ANDorOR': 'ORtype'} 0.041574\n",
      "20 True {'action': 'delete', 'atomOrBond': 'atom', 'whichAtmBnd': 'unIndexed', 'ANDorOR': 'ANDtype'} 0.027716\n",
      "21 True {'action': 'delete', 'atomOrBond': 'atom', 'whichAtmBnd': 'unIndexed', 'ANDorOR': 'ORtype'} 0.083149\n",
      "22 True {'action': 'delete', 'atomOrBond': 'bond', 'whichAtmBnd': 'bond1', 'ANDorOR': 'ANDtype'} 0.000473\n",
      "23 True {'action': 'delete', 'atomOrBond': 'bond', 'whichAtmBnd': 'bond1', 'ANDorOR': 'ORtype'} 0.001420\n",
      "24 True {'action': 'delete', 'atomOrBond': 'bond', 'whichAtmBnd': 'bond2', 'ANDorOR': 'ANDtype'} 0.000473\n",
      "25 True {'action': 'delete', 'atomOrBond': 'bond', 'whichAtmBnd': 'bond2', 'ANDorOR': 'ORtype'} 0.001420\n",
      "26 True {'action': 'delete', 'atomOrBond': 'bond', 'whichAtmBnd': 'unIndexed', 'ANDorOR': 'ANDtype'} 0.004735\n",
      "27 True {'action': 'delete', 'atomOrBond': 'bond', 'whichAtmBnd': 'unIndexed', 'ANDorOR': 'ORtype'} 0.014205\n",
      "28 True {'action': 'joinAtom', 'atomOrBond': 'atom', 'whichAtmBnd': 'atom1', 'ANDorOR': 'ORtype'} 0.041574\n",
      "29 True {'action': 'joinAtom', 'atomOrBond': 'atom', 'whichAtmBnd': 'atom2', 'ANDorOR': 'ORtype'} 0.004157\n",
      "30 True {'action': 'joinAtom', 'atomOrBond': 'atom', 'whichAtmBnd': 'atom3', 'ANDorOR': 'ORtype'} 0.041574\n",
      "31 True {'action': 'joinAtom', 'atomOrBond': 'atom', 'whichAtmBnd': 'unIndexed', 'ANDorOR': 'ORtype'} 0.083149\n",
      "32 True {'action': 'swap', 'atomOrBond': 'atom', 'whichAtmBnd': 'atom1', 'ANDorOR': 'ANDtype'} 0.013858\n",
      "33 True {'action': 'swap', 'atomOrBond': 'atom', 'whichAtmBnd': 'atom1', 'ANDorOR': 'ORtype'} 0.041574\n",
      "34 True {'action': 'swap', 'atomOrBond': 'atom', 'whichAtmBnd': 'atom2', 'ANDorOR': 'ANDtype'} 0.001386\n",
      "35 True {'action': 'swap', 'atomOrBond': 'atom', 'whichAtmBnd': 'atom2', 'ANDorOR': 'ORtype'} 0.004157\n",
      "36 True {'action': 'swap', 'atomOrBond': 'atom', 'whichAtmBnd': 'atom3', 'ANDorOR': 'ANDtype'} 0.013858\n",
      "37 True {'action': 'swap', 'atomOrBond': 'atom', 'whichAtmBnd': 'atom3', 'ANDorOR': 'ORtype'} 0.041574\n",
      "38 True {'action': 'swap', 'atomOrBond': 'atom', 'whichAtmBnd': 'unIndexed', 'ANDorOR': 'ANDtype'} 0.027716\n",
      "39 True {'action': 'swap', 'atomOrBond': 'atom', 'whichAtmBnd': 'unIndexed', 'ANDorOR': 'ORtype'} 0.083149\n",
      "40 True {'action': 'swap', 'atomOrBond': 'bond', 'whichAtmBnd': 'bond1', 'ANDorOR': 'ANDtype'} 0.000473\n",
      "41 True {'action': 'swap', 'atomOrBond': 'bond', 'whichAtmBnd': 'bond1', 'ANDorOR': 'ORtype'} 0.001420\n",
      "42 True {'action': 'swap', 'atomOrBond': 'bond', 'whichAtmBnd': 'bond2', 'ANDorOR': 'ANDtype'} 0.000473\n",
      "43 True {'action': 'swap', 'atomOrBond': 'bond', 'whichAtmBnd': 'bond2', 'ANDorOR': 'ORtype'} 0.001420\n",
      "44 True {'action': 'swap', 'atomOrBond': 'bond', 'whichAtmBnd': 'unIndexed', 'ANDorOR': 'ANDtype'} 0.004735\n",
      "45 True {'action': 'swap', 'atomOrBond': 'bond', 'whichAtmBnd': 'unIndexed', 'ANDorOR': 'ORtype'} 0.014205\n"
     ]
    }
   ],
   "source": [
    "print( len(moveDictdb))\n",
    "for i, moveDict in enumerate(moveDictdb):\n",
    "    print( i, str(EnvMoveIsWellFormed(moveDict[0])), moveDict[0], moveDict[1])"
   ]
  },
  {
   "cell_type": "markdown",
   "metadata": {},
   "source": [
    "## Section 4: API for making chemical moves\n",
    "* Chemical moves are performed on a Networkx Molecular Fragment (Nwxfrag) representing a force field parameter for a Vdw, Bond, Angle, Improper, or Torsion parameter\n",
    "* A chemical move is a composite of four micro-moves given in a dict moveDict"
   ]
  },
  {
   "cell_type": "markdown",
   "metadata": {},
   "source": [
    "#### The following function PickMoveItemWithProb is copied from iPython notebook EnvMovesTypesAndWeights:"
   ]
  },
  {
   "cell_type": "code",
   "execution_count": 22,
   "metadata": {
    "collapsed": true
   },
   "outputs": [],
   "source": [
    "# function copied from EnvMovesTypesAndWeights\n",
    "def PickMoveItemWithProb( moveType, moveWithWeights):\n",
    "    '''Picks a moveItem based on a moveType and a dictionary of moveTypes with associated probabilities\n",
    "       Arguments:\n",
    "         moveType: string corresponding to a key in the moveWithWeights dictionary, e.g. atomTor\n",
    "         moveWithWeights: a dictionary based on moveType keys which each point to a list of probabilites\n",
    "           associated with the position in the list\n",
    "        Returns:\n",
    "          the randomly-chosen position in the list, based on the probability, together with the probability'''\n",
    "    listOfIndexes = range(0, len( moveWithWeights[moveType][1]) )\n",
    "    listIndex = np.random.choice(listOfIndexes, p= moveWithWeights[moveType][1])\n",
    "    return moveWithWeights[moveType][0][listIndex], moveWithWeights[moveType][1][listIndex]"
   ]
  },
  {
   "cell_type": "code",
   "execution_count": 23,
   "metadata": {
    "collapsed": true
   },
   "outputs": [],
   "source": [
    "def GenerateNwxfragORtype( ComponentsWithWeights):\n",
    "    '''Makes a weighted random choice of a new Nwxfrag ORtype from lists of candidate components.\n",
    "    These ORtypes are composites of a basetype (atomic number for atom, bond order for bond) and\n",
    "    an ORdec (decorator) which can associate a property (such as 'X3' meaning 3 connections on\n",
    "    the atom). It also calculates and associates the cumulative probability for that composite\n",
    "    ORtype based on the probabilities of each component used in making the choice.\n",
    "    Argument: \n",
    "        ComponentsWithWeights: a MovesWithWeights dictionary of pairs of a moveType-list\n",
    "            with a probabilites-list\n",
    "    Returns: \n",
    "        newORtype, prob: a tuple pair with first element being a new ORtype and the second\n",
    "            being the cumulative probability of that ORtype.\n",
    "        None: if the attempt fails\n",
    "    '''\n",
    "    basetypeList = ComponentsWithWeights['Basetypes'][0]\n",
    "    #print( 'Basetypes:', ComponentsWithWeights['Basetypes'][0])\n",
    "    #print( 'Basetypes weights:', ComponentsWithWeights['Basetypes'][1])\n",
    "    if len(basetypeList)<1:\n",
    "        return None\n",
    "    newBasetype, prob = PickMoveItemWithProb( 'Basetypes', ComponentsWithWeights)\n",
    "    cumProb = prob\n",
    "    \n",
    "    ORtypeList = ComponentsWithWeights['ORdecs'][0]\n",
    "    #print( 'ORdecs:', ORtypeList)\n",
    "    #print( 'ORdecs weights:', ComponentsWithWeights['ORdecs'][1])\n",
    "    if len(ORtypeList)<1:\n",
    "        return newBasetype, prob\n",
    "    newORdecorator, prob = PickMoveItemWithProb( 'ORdecs', ComponentsWithWeights)\n",
    "    newORtype = newBasetype + newORdecorator\n",
    "    cumProb *= prob\n",
    "    return newORtype, prob"
   ]
  },
  {
   "cell_type": "code",
   "execution_count": 24,
   "metadata": {
    "collapsed": true
   },
   "outputs": [],
   "source": [
    "def GenerateNwxfragANDtype( ComponentsWithWeights):\n",
    "    '''Makes a weighted random choice of a new Nwxfrag ANDtype from  a list of candidate\n",
    "    components.It also calculates and associates the cumulative probability for that\n",
    "    composite ANDtype based on the probabilities of each component used in making the choice.\n",
    "    Argument: \n",
    "        ComponentsWithWeights: a MovesWithWeights dictionary of pairs of a moveType-list\n",
    "            with a probabilites-list\n",
    "    Returns: \n",
    "        newANDtype, prob: a tuple pair with first element being a new ORtype and the second\n",
    "            being the cumulative probability of that ORtype.\n",
    "        None: if the attempt fails\n",
    "    '''\n",
    "    ANDtypeList = ComponentsWithWeights['ANDdecs'][0]\n",
    "    #print( 'ANDdecs:', ANDtypeList)\n",
    "    #print( 'ANDdecs weights:', ComponentsWithWeights['ANDdecs'][1])\n",
    "    if len(ANDtypeList)<1:\n",
    "        return None\n",
    "    return PickMoveItemWithProb( 'ANDdecs', ComponentsWithWeights)"
   ]
  },
  {
   "cell_type": "code",
   "execution_count": 25,
   "metadata": {
    "collapsed": false
   },
   "outputs": [
    {
     "name": "stdout",
     "output_type": "stream",
     "text": [
      "atom ORtypes: ('#6X4', 0.16666666666666666)\n",
      "atom ORtypes: ('#1', 0.16666666666666666)\n",
      "atom ORtypes: ('#6X4', 0.16666666666666666)\n",
      "atom ANDtypes: ('+0', 0.5)\n",
      "atom ANDtypes: ('H0', 0.5)\n",
      "atom ANDtypes: ('H0', 0.5)\n",
      "bond ORtypes: ('~', 0.5)\n",
      "bond ORtypes: ('-', 0.5)\n",
      "bond ORtypes: ('-', 0.5)\n",
      "bond ANDtypes: ('!@', 0.5)\n",
      "bond ANDtypes: ('@', 0.5)\n",
      "bond ANDtypes: ('!@', 0.5)\n"
     ]
    }
   ],
   "source": [
    "# test GenerateNwxfragORtype and GenerateNwxfragANDtype\n",
    "nSamples = 3\n",
    "for i in range(0,nSamples):\n",
    "    print( 'atom ORtypes:', GenerateNwxfragORtype( masterComponentsWithWeights['atom']) )\n",
    "for i in range(0,nSamples):\n",
    "    print( 'atom ANDtypes:', GenerateNwxfragANDtype( masterComponentsWithWeights['atom']) )\n",
    "for i in range(0,nSamples):\n",
    "    print( 'bond ORtypes:', GenerateNwxfragORtype( masterComponentsWithWeights['bond']) )\n",
    "for i in range(0,nSamples):\n",
    "    print( 'bond ANDtypes:', GenerateNwxfragANDtype( masterComponentsWithWeights['bond']) )"
   ]
  },
  {
   "cell_type": "code",
   "execution_count": 26,
   "metadata": {
    "collapsed": true
   },
   "outputs": [],
   "source": [
    "def GetNwxfragBondChangeling( moveDict, Nwxfrag):\n",
    "    '''Returns an OpenForcefield Networkx molecular fragment bond object containing ORtypes and\n",
    "    ANDtypes. Whether a specific bond object or a randomly chosed one gets returned is based\n",
    "    on information in the moveDict (specifically moveDict['whichAtmBnd']).\n",
    "    If no bond object is found, it returns None.\n",
    "    Arguments:\n",
    "        moveDict: a dict of strings constituting a sequence of proposed chem env micro-moves\n",
    "        Nwxfrag: an OpenForcefield Networkx molecular fragment (representing a force field parameter)\n",
    "    Returns: an OpenForcefield Networkx molecular fragment bond object or None'''\n",
    "    if moveDict['atomOrBond']!='bond':\n",
    "        print( 'GetNwxfragBondChangeling: mistaken call to this function')\n",
    "        return None\n",
    "    #build up list of (bondIndex, bond) tuples\n",
    "    bondsWithIndex = []\n",
    "    for bond in Nwxfrag.getBonds():\n",
    "        firstAtomIndex  = bond[0].index\n",
    "        secondAtomIndex = bond[1].index\n",
    "        if firstAtomIndex==None or secondAtomIndex==None:\n",
    "            bondsWithIndex.append( (0, bond[2]))\n",
    "        else:\n",
    "            # for all BAIT (Bonds,Angles,Impropers,Torsions) parameter types\n",
    "            if firstAtomIndex==1 and secondAtomIndex==2:\n",
    "                bondsWithIndex.append( (1, bond[2]))\n",
    "            elif firstAtomIndex==2 and secondAtomIndex==1:\n",
    "                bondsWithIndex.append( (1, bond[2]))\n",
    "            # for all Angles,Impropers,Torsions parameter types\n",
    "            elif firstAtomIndex==2 and secondAtomIndex==3:\n",
    "                bondsWithIndex.append( (2, bond[2]))\n",
    "            elif firstAtomIndex==3 and secondAtomIndex==2:\n",
    "                bondsWithIndex.append( (2, bond[2]))\n",
    "            # for all Torsions parameter types\n",
    "            elif firstAtomIndex==3 and secondAtomIndex==4:\n",
    "                bondsWithIndex.append( (3, bond[2]))\n",
    "            elif firstAtomIndex==4 and secondAtomIndex==3:\n",
    "                bondsWithIndex.append( (3, bond[2]))\n",
    "            # for all Impropers parameter types\n",
    "            elif firstAtomIndex==2 and secondAtomIndex==4:\n",
    "                bondsWithIndex.append( (3, bond[2]))\n",
    "            elif firstAtomIndex==4 and secondAtomIndex==2:\n",
    "                bondsWithIndex.append( (3, bond[2]))\n",
    "            else:\n",
    "                print( 'GetNwxfragIndexedBond: unexpected graph of indexed atoms in', Nwxfrag.asSMIRKS())\n",
    "                return None\n",
    "    indexedBonds = [None,None,None]\n",
    "    unindexedBonds = []\n",
    "    for bond in bondsWithIndex:\n",
    "        if bond[0]==0:\n",
    "            unindexedBonds.append( bond[1])\n",
    "        else:\n",
    "            indexedBonds[bond[0]-1] = bond[1]\n",
    "    # now find desired bond and return it\n",
    "    idxStr = moveDict['whichAtmBnd'][4]\n",
    "    if idxStr=='d':\n",
    "        if len(unindexedBonds)<1:\n",
    "            return None\n",
    "        if len(unindexedBonds)==1:\n",
    "            return unindexedBonds[0]\n",
    "        else:\n",
    "            return np.random.choice( unindexedBonds)\n",
    "    else:\n",
    "        idxNum = int(idxStr)\n",
    "        if idxNum>3:\n",
    "            return None\n",
    "        else:\n",
    "            return indexedBonds[idxNum-1]"
   ]
  },
  {
   "cell_type": "code",
   "execution_count": 27,
   "metadata": {
    "collapsed": false
   },
   "outputs": [
    {
     "name": "stdout",
     "output_type": "stream",
     "text": [
      "[*:2]!@[#8:1]-[#6X3]=[#8X1;H0;+0]\n",
      "{'action': 'add', 'atomOrBond': 'bond', 'whichAtmBnd': 'bond1', 'ANDorOR': 'ORtype'}\n",
      "bond firstAtom 2 [] []\n",
      "bond secondAtom 1 ['#8'] []\n",
      "['!@']\n",
      "bond firstAtom 1 ['#8'] []\n",
      "bond secondAtom None ['#6X3'] []\n",
      "['-']\n",
      "bond firstAtom None ['#8X1'] ['H0', '+0']\n",
      "bond secondAtom None ['#6X3'] []\n",
      "['=']\n",
      "changeling.getORtypes(): ['!@']\n"
     ]
    }
   ],
   "source": [
    "# test GetNwxfragBondChangeling\n",
    "startParam = smirky.ChemicalEnvironment( '[*:2]!@[#8:1]-[#6X3]=[#8X1;H0;+0]' )\n",
    "param = copy.deepcopy( startParam)\n",
    "moveDict = moveDictdb[9][0]\n",
    "print( param.asSMIRKS())\n",
    "print( moveDict)\n",
    "for bond in param.getBonds():\n",
    "    #print( bond)\n",
    "    firstAtom = bond[0]\n",
    "    secondAtom = bond[1]\n",
    "    print( 'bond firstAtom', firstAtom.index, firstAtom.getORtypes(), firstAtom.getANDtypes())\n",
    "    print( 'bond secondAtom', secondAtom.index, secondAtom.getORtypes(), secondAtom.getANDtypes())\n",
    "    print( bond[2].getORtypes() )\n",
    "#\n",
    "changeling = GetNwxfragBondChangeling( moveDict, param)\n",
    "print( 'changeling.getORtypes():', changeling.getORtypes() )"
   ]
  },
  {
   "cell_type": "code",
   "execution_count": 28,
   "metadata": {
    "collapsed": true
   },
   "outputs": [],
   "source": [
    "def GetNwxfragAtomChangeling( moveDict, Nwxfrag):\n",
    "    '''Returns an OpenForcefield Networkx molecular fragment atom object containing ORtypes and\n",
    "    ANDtypes. Whether a specific atom object or a randomly chosed one gets returned is based\n",
    "    on information in the moveDict (specifically moveDict['whichAtmBnd']).\n",
    "    If no atom object is found, it returns None.\n",
    "    Arguments:\n",
    "        moveDict: a dict of strings constituting a sequence of proposed chem env micro-moves\n",
    "        Nwxfrag: an OpenForcefield Networkx molecular fragment (representing a force field parameter)\n",
    "    Returns: an OpenForcefield Networkx molecular fragment atom object or None'''\n",
    "    if moveDict['atomOrBond']!='atom':\n",
    "        print( 'GetNwxfragAtomChangeling: mistaken call to this function')\n",
    "        return None\n",
    "    idxStr = moveDict['whichAtmBnd'][4]\n",
    "    if idxStr!='d':\n",
    "        return Nwxfrag.selectAtom( int(idxStr))\n",
    "    # begin section to randomly pick an unIndexed atom; hopefully there will be a function for this\n",
    "    indexedAtoms = Nwxfrag.getIndexedAtoms()\n",
    "    unIndexedAtoms = []\n",
    "    atoms = Nwxfrag.getAtoms()\n",
    "    for tryatom in atoms:\n",
    "        if tryatom not in indexedAtoms:\n",
    "            unIndexedAtoms.append( tryatom)\n",
    "    if len(unIndexedAtoms)>1:\n",
    "        return np.random.choice( unIndexedAtoms)\n",
    "    elif len(unIndexedAtoms)==1:\n",
    "        return unIndexedAtoms[0]"
   ]
  },
  {
   "cell_type": "code",
   "execution_count": 29,
   "metadata": {
    "collapsed": false
   },
   "outputs": [],
   "source": [
    "def GetNwxfragChangeling( moveDict, Nwxfrag):\n",
    "    '''Parent function to broker the getting of a changeling between an OpenForcefield\n",
    "    Networkx molecular fragment atom object or bond object getter.\n",
    "    Arguments:\n",
    "        moveDict: a dict of strings constituting a sequence of proposed chem env micro-moves\n",
    "        Nwxfrag: an OpenForcefield Networkx molecular fragment (representing a force field parameter)\n",
    "    Returns: an OpenForcefield Networkx molecular fragment atom or bond object or None.\n",
    "    '''\n",
    "    atomOrBond = moveDict['atomOrBond']\n",
    "    if atomOrBond=='atom':\n",
    "        return GetNwxfragAtomChangeling( moveDict, Nwxfrag)\n",
    "    elif atomOrBond=='bond':\n",
    "        return GetNwxfragBondChangeling( moveDict, Nwxfrag)\n",
    "    else:\n",
    "        return None"
   ]
  },
  {
   "cell_type": "code",
   "execution_count": 30,
   "metadata": {
    "collapsed": false
   },
   "outputs": [
    {
     "name": "stdout",
     "output_type": "stream",
     "text": [
      "Attempting to apply this proposed move:\n",
      " {'action': 'add', 'atomOrBond': 'atom', 'whichAtmBnd': 'atom3', 'ANDorOR': 'ORtype'}\n",
      "To a Networkx fragment that generates this SMIRKS string:\n",
      " [#8X2H0]-[#6](-[#1:1])(-[#7X4+1])-[#9]\n",
      "GetNwxfragChangeling returned none. Was the proposed move viable?\n"
     ]
    }
   ],
   "source": [
    "# test GetNwxfragChangeling\n",
    "startParam = atomH3\n",
    "param = copy.deepcopy( startParam)\n",
    "moveDict = moveDictdb[5][0]\n",
    "print( 'Attempting to apply this proposed move:\\n', moveDict )\n",
    "print( 'To a Networkx fragment that generates this SMIRKS string:\\n', param.asSMIRKS() )\n",
    "#for key in moveDict.keys():\n",
    "#    print( key, ':', moveDict[key] )\n",
    "changeling = GetNwxfragChangeling( moveDict, param)\n",
    "if changeling!=None:\n",
    "    print( 'changeling properties:', changeling.getORtypes(), changeling.getANDtypes() )\n",
    "else:\n",
    "    print( 'GetNwxfragChangeling returned none. Was the proposed move viable?')"
   ]
  },
  {
   "cell_type": "code",
   "execution_count": 31,
   "metadata": {
    "collapsed": true
   },
   "outputs": [],
   "source": [
    "def ProposeNewType( moveDict, ComponentsWithWeights):\n",
    "    '''Proposes a new ORtype or ANDtype for the OpenForcefield Networkx molecular\n",
    "    fragment changeling object based on a weighted random choice from  a list of\n",
    "    candidate components. It also calculates and associates the cumulative probability\n",
    "    for that choice based on the probabilities of the component used in making the choice.\n",
    "    If the attempt to propose does not work, it returns None.\n",
    "    Arguments:\n",
    "        moveDict: a dict of strings constituting a sequence of proposed chem env micro-moves\n",
    "        ComponentsWithWeights: a MovesWithWeights dictionary of pairs of an ORtype or\n",
    "            ANDtype components with a probabilites-list.\n",
    "    Returns: \n",
    "        newType, prob: a tuple pair with first element being the proposed new type and\n",
    "            the second being the cumulative probability of that ORtype.\n",
    "        None: if the attempt fails\n",
    "    '''\n",
    "    #print( 'ProposeNewType moveDict:', moveDict )\n",
    "    atomOrBond = moveDict['atomOrBond']\n",
    "    if moveDict['ANDorOR']=='ORtype':\n",
    "        newPair = GenerateNwxfragORtype( ComponentsWithWeights[atomOrBond])\n",
    "    elif moveDict['ANDorOR']=='ANDtype':\n",
    "        newPair = GenerateNwxfragANDtype( ComponentsWithWeights[atomOrBond])\n",
    "    return newPair"
   ]
  },
  {
   "cell_type": "code",
   "execution_count": 32,
   "metadata": {
    "collapsed": false
   },
   "outputs": [
    {
     "name": "stdout",
     "output_type": "stream",
     "text": [
      "atom ANDtype : ('+0', 0.5)\n",
      "atom ORtype : ('#8', 0.16666666666666666)\n",
      "atom ANDtype : ('+0', 0.5)\n",
      "atom ORtype : ('#6X2', 0.16666666666666666)\n",
      "atom ANDtype : ('+0', 0.5)\n",
      "atom ORtype : ('#8X3', 0.16666666666666666)\n",
      "atom ANDtype : ('H0', 0.5)\n",
      "atom ORtype : ('#6X1', 0.16666666666666666)\n",
      "bond ANDtype : ('@', 0.5)\n",
      "bond ORtype : ('~', 0.5)\n",
      "bond ANDtype : ('@', 0.5)\n",
      "bond ORtype : ('-', 0.5)\n",
      "bond ANDtype : ('!@', 0.5)\n",
      "bond ORtype : ('~', 0.5)\n",
      "atom ANDtype : ('H0', 0.5)\n",
      "atom ORtype : ('#8H0', 0.041666666666666664)\n",
      "atom ANDtype : ('H0', 0.5)\n",
      "atom ORtype : ('#6X2', 0.16666666666666666)\n",
      "atom ANDtype : ('+0', 0.5)\n",
      "atom ORtype : ('#8X4', 0.16666666666666666)\n",
      "atom ANDtype : ('H0', 0.5)\n",
      "atom ORtype : ('#8X2', 0.16666666666666666)\n",
      "bond ANDtype : ('@', 0.5)\n",
      "bond ORtype : ('-', 0.5)\n",
      "bond ANDtype : ('!@', 0.5)\n",
      "bond ORtype : ('~', 0.5)\n",
      "bond ANDtype : ('!@', 0.5)\n",
      "bond ORtype : ('~', 0.5)\n",
      "atom ORtype : ('#6X2', 0.16666666666666666)\n",
      "atom ORtype : ('#6X3', 0.16666666666666666)\n",
      "atom ORtype : ('#8', 0.16666666666666666)\n",
      "atom ORtype : ('#8X4', 0.16666666666666666)\n",
      "atom ANDtype : ('H0', 0.5)\n",
      "atom ORtype : ('#1X2', 0.16666666666666666)\n",
      "atom ANDtype : ('H0', 0.5)\n",
      "atom ORtype : ('#8', 0.16666666666666666)\n",
      "atom ANDtype : ('H0', 0.5)\n",
      "atom ORtype : ('#6H0', 0.041666666666666664)\n",
      "atom ANDtype : ('+0', 0.5)\n",
      "atom ORtype : ('#6X4', 0.16666666666666666)\n",
      "bond ANDtype : ('!@', 0.5)\n",
      "bond ORtype : ('~', 0.5)\n",
      "bond ANDtype : ('@', 0.5)\n",
      "bond ORtype : ('~', 0.5)\n",
      "bond ANDtype : ('!@', 0.5)\n",
      "bond ORtype : ('-', 0.5)\n"
     ]
    }
   ],
   "source": [
    "# test ProposeNewType\n",
    "for moveDict in moveDictdb:\n",
    "    print( moveDict[0]['atomOrBond'], moveDict[0]['ANDorOR'], ':',\n",
    "         ProposeNewType( moveDict[0], masterComponentsWithWeights))"
   ]
  },
  {
   "cell_type": "code",
   "execution_count": 33,
   "metadata": {
    "collapsed": false
   },
   "outputs": [],
   "source": [
    "def IsActionViable( moveDict, existing, proposal, msg):\n",
    "    '''Checks the viability a proposed chemical move against the existing content of\n",
    "    the OpenForcefield Networkx molecular fragment changeling object the move is to\n",
    "    operate upon. Depending on the nature of the move and the changeling object, the\n",
    "    proposed move may be a priori impossible (e.g. deleting an ANDtype when the\n",
    "    ANDtype list is already empty). If such a circumstance is found, this function\n",
    "    returns False with a message. Otherwise it returns true with an empty string\n",
    "    for the message.\n",
    "    Arguments:\n",
    "        moveDict: a dict of strings constituting a sequence of proposed chem env micro-moves.\n",
    "        existing: the OpenForcefield Networkx molecular fragment changeling object's \n",
    "            existing ORtype or ANDtype list of strings targeted by the move in moveDict.\n",
    "        proposal: a string; the proposed change to the existing ORtype or ANDtype list.\n",
    "        msg: a string; a message stating why the move is deemed not viable.'''\n",
    "    action = moveDict['action']\n",
    "    #print('IsActionViable:  action:',action,'; existing types:',existing,'; proposed newType:',proposal)\n",
    "    if action=='add':\n",
    "        if proposal=='None':\n",
    "            print('proposed newType is null; willnot add')\n",
    "            return False\n",
    "        if proposal in existing:\n",
    "            print('proposed newType is in existing list; will not add')\n",
    "            return False\n",
    "    elif action=='delete':\n",
    "        # ToDo: check to make sure not completely deleting whole atom which connects at least two others\n",
    "        # Environments already do this - unnecessary\n",
    "        if len(existing)<1:\n",
    "            #msg = 'existing list is already empty; will not delete'\n",
    "            #print('IsActionViable: msg is', msg)\n",
    "            print('existing list is already empty; will not delete')\n",
    "            return False\n",
    "        if len(existing)==1 and moveDict['whichAtmBnd'][4]!='d':\n",
    "            # \n",
    "            print('will not delete indexed atom or bond with only one type')\n",
    "            return False\n",
    "        if len(existing)==1 and moveDict['atomOrBond']=='bond':\n",
    "            print('will not delete last bond joining two atoms')\n",
    "            return False\n",
    "    elif action=='swap':\n",
    "        if len(existing)<1 or proposal=='None':\n",
    "            print('missing one of existing type or newType; will not swap')\n",
    "            return False\n",
    "        if len(existing)==1 and existing[0]==proposal:\n",
    "            print('Swapping identical types is pointless; will not swap')\n",
    "            return False\n",
    "    elif action=='joinAtom':\n",
    "        # ToDo: insert valence check (don't join to atom with full valence)\n",
    "            # I think this should also be inside the environments, but it would probably treat everything \n",
    "            # with the same max valence, such as 4? 6? might need special cses? \n",
    "        # ToDo: insert subst position check (don't join to beta substituent)\n",
    "            # This is also in my environment TODO list, I think it makes more sense there\n",
    "        if len(existing)<1 or proposal=='None':\n",
    "            print('missing one of existing atom or new atom; will not join atom')\n",
    "            return False\n",
    "    return True"
   ]
  },
  {
   "cell_type": "code",
   "execution_count": 34,
   "metadata": {
    "collapsed": true
   },
   "outputs": [],
   "source": [
    "def SetNwxfragNewList( moveDict, changeling, newList):\n",
    "    '''Makes the move on the selected OpenForcefield Networkx molecular fragment\n",
    "    changeling object by setting the selected ORtype or ANDtype list.\n",
    "    Arguments:\n",
    "        moveDict: a dict of strings constituting a sequence of proposed chem env micro-moves.\n",
    "        changeling: the OpenForcefield Networkx molecular fragment object targeted by the move.\n",
    "        newList: the new list of strings to replace the existing one in the changeling.\n",
    "    Returns: True if the move is successful, False otherwise.\n",
    "        '''\n",
    "    #print( 'SetNwxfragNewList newList:', newList )\n",
    "    if moveDict['ANDorOR']=='ORtype':\n",
    "        #print( 'SetNwxfragNewList old type:', changeling.getORtypes() )\n",
    "        changeling.setORtypes( newList)\n",
    "        #print( 'SetNwxfragNewList new type:', changeling.getORtypes() )\n",
    "        return True\n",
    "    elif moveDict['ANDorOR']=='ANDtype':\n",
    "        #print( 'SetNwxfragNewList old type:', changeling.getANDtypes() )\n",
    "        changeling.setANDtypes( newList)\n",
    "        #print( 'SetNwxfragNewList new type:', changeling.getANDtypes() )\n",
    "        return True\n",
    "    else:\n",
    "        return False"
   ]
  },
  {
   "cell_type": "code",
   "execution_count": 35,
   "metadata": {
    "collapsed": false
   },
   "outputs": [],
   "source": [
    "def EffectMoveOnNwxfragList( moveDict, frag, changeling, existing, proposal):\n",
    "    '''Effects the action requested in the chemical move on the selected OpenForcefield\n",
    "    Networkx molecular fragment changeling object.\n",
    "    Arguments:\n",
    "        moveDict: a dict of strings constituting a sequence of proposed chem env micro-moves.\n",
    "        frag: an OpenForcefield Networkx molecular fragment (representing a force field parameter)\n",
    "        changeling: the object in the OpenForcefield Networkx frag targeted by the move.\n",
    "        existing: the OpenForcefield Networkx molecular fragment changeling object's \n",
    "            existing ORtype or ANDtype list of strings targeted by the move in moveDict.\n",
    "        proposal: a string; the proposed change to the existing ORtype or ANDtype list.\n",
    "    Returns: True if the move is successful, False otherwise.\n",
    "        '''\n",
    "    action = moveDict['action']\n",
    "    #print('EffectMoveOnNwxfragList:  action:',action,'; existing types:',existing,'; proposed newType:',proposal)\n",
    "    newList = existing\n",
    "    #\n",
    "    # begin section for action delete and swap (swap is delete followed by add)\n",
    "    # begin with special case for actually removing an atom completely, ie delete the last atom ORtype\n",
    "    if action=='delete' and len(newList)==1 and moveDict['atomOrBond']=='atom'and moveDict['ANDorOR']=='ORtype':\n",
    "        # for time being just remove the whole thing; worry about detailed balance later\n",
    "        onlyEmpty = False\n",
    "        frag.removeAtom( changeling, onlyEmpty)\n",
    "        return True\n",
    "    # now the more general case for removing the last type from a list: make an empty list\n",
    "    if action=='delete' or action=='swap':\n",
    "        if len(newList)==1:\n",
    "            newList = []\n",
    "    # now to remove a random item from a list of more than one\n",
    "        else:\n",
    "            listOfIndexes = range(0, len( newList) )\n",
    "            idxToDelete = np.random.choice(listOfIndexes)\n",
    "            #print('EffectMoveOnNwxfragList delete index %d from list', newList)\n",
    "            del newList[idxToDelete]\n",
    "            #print('EffectMoveOnNwxfragList list after delete is', newList)\n",
    "    #\n",
    "    # begin section for action add and swap (swap is delete followed by add)\n",
    "    if action=='add' or action=='swap':\n",
    "        newList.append( proposal)\n",
    "        #print('EffectMoveOnNwxfragList about to set newList:', newList)\n",
    "        if not SetNwxfragNewList( moveDict, changeling, newList):\n",
    "            print('EffectMoveOnNwxfragList newList failed:', newList)\n",
    "            return False\n",
    "    #\n",
    "    # begin section for joinAtom\n",
    "    if action=='joinAtom':\n",
    "        print('EffectMoveOnNwxfragList: attaching [', proposal,'] to existing atom:', existing)\n",
    "        frag.addAtom( changeling, None, None, [proposal], None, None)\n",
    "    return True"
   ]
  },
  {
   "cell_type": "code",
   "execution_count": 36,
   "metadata": {
    "collapsed": false
   },
   "outputs": [],
   "source": [
    "def MoveNwxfrag( frag, moveDict, weightdParts, msg=''):\n",
    "    '''Modifies an open-force-field Networkx molecular fragment by applying a move described by\n",
    "    a moveDict (dict of proposed chem env micro-moves), based on weighted random choices of\n",
    "    chemical components in weightdParts. If the proposed move is not viable, it returns False.\n",
    "    Arguments:\n",
    "        frag: an OpenForcefield Networkx molecular fragment (representing a force field parameter)\n",
    "        moveDict: a list of strings constituting a sequence of proposed chem env micro-moves\n",
    "        weightdParts: dictionary of chemical components with probabilities of being chosen\n",
    "        msg: an informative message about the nature of the problem\n",
    "    Returns True unless it finds a problem'''\n",
    "    print( frag.asSMIRKS(), moveDict )\n",
    "    \n",
    "    # stage 1: get the atom or bond we are going to work on\n",
    "    atomOrBond = moveDict['atomOrBond']\n",
    "    changeling = GetNwxfragChangeling( moveDict, frag)\n",
    "    if changeling==None:\n",
    "        msg = 'MoveNwxfrag: changeling is None, returning false'\n",
    "        return False\n",
    "    print( 'MoveNwxfrag changeling:', changeling.getORtypes(), changeling.getANDtypes() )\n",
    "    \n",
    "    # stage 2: get the current list we need to modify\n",
    "    ANDorOR = moveDict['ANDorOR']\n",
    "    if ANDorOR=='ORtype':\n",
    "        currlist = changeling.getORtypes()\n",
    "        print('MoveNwxfrag got ORtypes:', currlist)\n",
    "    elif ANDorOR=='ANDtype':\n",
    "        currlist = changeling.getANDtypes()\n",
    "        print('MoveNwxfrag got ANDtypes:', currlist)\n",
    "    else:\n",
    "        msg = 'MoveNwxfrag: could not retrieve requested ORtypes or ANDtypes'\n",
    "        return False\n",
    "    \n",
    "    # stage 3: get the component list and associated weights\n",
    "    proposed = ProposeNewType( moveDict, masterComponentsWithWeights)\n",
    "    if proposed==None:\n",
    "        msg = 'MoveNwxfrag: proposed (newType, probability) is None, returning false'\n",
    "        return False\n",
    "    #print('MoveNwxfrag proposed (newType probability):', proposed)\n",
    "    \n",
    "    #stage 4: Test viability of desired action\n",
    "    mesg = ''\n",
    "    IsViable = IsActionViable( moveDict, currlist, proposed[0], mesg)\n",
    "    if not IsViable:\n",
    "        msg = 'MoveNwxfrag: proposal is not viable, returning false. Details:\\n'+mesg\n",
    "        #print('MoveNwxfrag returning msg:', msg)\n",
    "        return False\n",
    "    #print('MoveNwxfrag proposed action %s is viable ' % moveDict['action'])\n",
    "    \n",
    "    #stage 5: perform action\n",
    "    if not EffectMoveOnNwxfragList( moveDict, frag, changeling, currlist, proposed[0]):\n",
    "        msg = 'MoveNwxfrag: problem effecting the move'\n",
    "        #print( 'MoveNwxfrag returning msg:', msg)\n",
    "        return False\n",
    "    \n",
    "    return True"
   ]
  },
  {
   "cell_type": "code",
   "execution_count": 37,
   "metadata": {
    "collapsed": false
   },
   "outputs": [
    {
     "name": "stdout",
     "output_type": "stream",
     "text": [
      "[#6X4:1]~[#6X4:2]-[#6X4:3] {'action': 'add', 'atomOrBond': 'atom', 'whichAtmBnd': 'unIndexed', 'ANDorOR': 'ANDtype'}\n",
      "move failed, message is: \n"
     ]
    }
   ],
   "source": [
    "# test MoveNwxfrag\n",
    "startParam = angEnv2\n",
    "param = copy.deepcopy( startParam)\n",
    "moveDict = moveDictdb[6][0]\n",
    "#print( param.asSMIRKS(), moveDict )\n",
    "msg = ''\n",
    "if not MoveNwxfrag( param, moveDict, masterComponentsWithWeights, msg):\n",
    "    print('move failed, message is:', msg)\n",
    "else:\n",
    "    print('move worked, new SMIRKS is:', param.asSMIRKS())"
   ]
  },
  {
   "cell_type": "code",
   "execution_count": 38,
   "metadata": {
    "collapsed": false,
    "scrolled": false
   },
   "outputs": [
    {
     "name": "stdout",
     "output_type": "stream",
     "text": [
      "Starting with [#6X4:1]~[#6X4:2]-[#6X4:3]\n",
      "\n",
      "working on  0      add atom      atom1 ANDtype :\n",
      "[#6X4:1]~[#6X4:2]-[#6X4:3] {'action': 'add', 'atomOrBond': 'atom', 'whichAtmBnd': 'atom1', 'ANDorOR': 'ANDtype'}\n",
      "MoveNwxfrag changeling: ['#6X4'] []\n",
      "MoveNwxfrag got ANDtypes: []\n",
      "  Succeeded : [#6X4;+0:1]~[#6X4:2]-[#6X4:3]\n",
      "\n",
      "working on  1      add atom      atom1  ORtype :\n",
      "[#6X4:1]~[#6X4:2]-[#6X4:3] {'action': 'add', 'atomOrBond': 'atom', 'whichAtmBnd': 'atom1', 'ANDorOR': 'ORtype'}\n",
      "MoveNwxfrag changeling: ['#6X4'] []\n",
      "MoveNwxfrag got ORtypes: ['#6X4']\n",
      "  Succeeded : [#6X4,#1X3:1]~[#6X4:2]-[#6X4:3]\n",
      "\n",
      "working on  2      add atom      atom2 ANDtype :\n",
      "[#6X4:1]~[#6X4:2]-[#6X4:3] {'action': 'add', 'atomOrBond': 'atom', 'whichAtmBnd': 'atom2', 'ANDorOR': 'ANDtype'}\n",
      "MoveNwxfrag changeling: ['#6X4'] []\n",
      "MoveNwxfrag got ANDtypes: []\n",
      "  Succeeded : [#6X4:1]~[#6X4;H0:2]-[#6X4:3]\n",
      "\n",
      "working on  3      add atom      atom2  ORtype :\n",
      "[#6X4:1]~[#6X4:2]-[#6X4:3] {'action': 'add', 'atomOrBond': 'atom', 'whichAtmBnd': 'atom2', 'ANDorOR': 'ORtype'}\n",
      "MoveNwxfrag changeling: ['#6X4'] []\n",
      "MoveNwxfrag got ORtypes: ['#6X4']\n",
      "  Succeeded : [#6X4:1]~[#6X4,#6H3:2]-[#6X4:3]\n",
      "\n",
      "working on  4      add atom      atom3 ANDtype :\n",
      "[#6X4:1]~[#6X4:2]-[#6X4:3] {'action': 'add', 'atomOrBond': 'atom', 'whichAtmBnd': 'atom3', 'ANDorOR': 'ANDtype'}\n",
      "MoveNwxfrag changeling: ['#6X4'] []\n",
      "MoveNwxfrag got ANDtypes: []\n",
      "  Succeeded : [#6X4:1]~[#6X4:2]-[#6X4;H0:3]\n",
      "\n",
      "working on  5      add atom      atom3  ORtype :\n",
      "[#6X4:1]~[#6X4:2]-[#6X4:3] {'action': 'add', 'atomOrBond': 'atom', 'whichAtmBnd': 'atom3', 'ANDorOR': 'ORtype'}\n",
      "MoveNwxfrag changeling: ['#6X4'] []\n",
      "MoveNwxfrag got ORtypes: ['#6X4']\n",
      "  Succeeded : [#6X4:1]~[#6X4:2]-[#6X4,#8X3:3]\n",
      "\n",
      "working on  6      add atom  unIndexed ANDtype :\n",
      "[#6X4:1]~[#6X4:2]-[#6X4:3] {'action': 'add', 'atomOrBond': 'atom', 'whichAtmBnd': 'unIndexed', 'ANDorOR': 'ANDtype'}\n",
      "  Failed\n",
      "\n",
      "working on  7      add atom  unIndexed  ORtype :\n",
      "[#6X4:1]~[#6X4:2]-[#6X4:3] {'action': 'add', 'atomOrBond': 'atom', 'whichAtmBnd': 'unIndexed', 'ANDorOR': 'ORtype'}\n",
      "  Failed\n",
      "\n",
      "working on  8      add bond      bond1 ANDtype :\n",
      "[#6X4:1]~[#6X4:2]-[#6X4:3] {'action': 'add', 'atomOrBond': 'bond', 'whichAtmBnd': 'bond1', 'ANDorOR': 'ANDtype'}\n",
      "MoveNwxfrag changeling: [] []\n",
      "MoveNwxfrag got ANDtypes: []\n",
      "  Succeeded : [#6X4:1]~;!@[#6X4:2]-[#6X4:3]\n",
      "\n",
      "working on  9      add bond      bond1  ORtype :\n",
      "[#6X4:1]~[#6X4:2]-[#6X4:3] {'action': 'add', 'atomOrBond': 'bond', 'whichAtmBnd': 'bond1', 'ANDorOR': 'ORtype'}\n",
      "MoveNwxfrag changeling: [] []\n",
      "MoveNwxfrag got ORtypes: []\n",
      "  Succeeded : [#6X4:1]~[#6X4:2]-[#6X4:3]\n",
      "\n",
      "working on 10      add bond      bond2 ANDtype :\n",
      "[#6X4:1]~[#6X4:2]-[#6X4:3] {'action': 'add', 'atomOrBond': 'bond', 'whichAtmBnd': 'bond2', 'ANDorOR': 'ANDtype'}\n",
      "MoveNwxfrag changeling: ['-'] []\n",
      "MoveNwxfrag got ANDtypes: []\n",
      "  Succeeded : [#6X4:1]~[#6X4:2]-;@[#6X4:3]\n",
      "\n",
      "working on 11      add bond      bond2  ORtype :\n",
      "[#6X4:1]~[#6X4:2]-[#6X4:3] {'action': 'add', 'atomOrBond': 'bond', 'whichAtmBnd': 'bond2', 'ANDorOR': 'ORtype'}\n",
      "MoveNwxfrag changeling: ['-'] []\n",
      "MoveNwxfrag got ORtypes: ['-']\n",
      "proposed newType is in existing list; will not add\n",
      "  Failed\n",
      "\n",
      "working on 12      add bond  unIndexed ANDtype :\n",
      "[#6X4:1]~[#6X4:2]-[#6X4:3] {'action': 'add', 'atomOrBond': 'bond', 'whichAtmBnd': 'unIndexed', 'ANDorOR': 'ANDtype'}\n",
      "  Failed\n",
      "\n",
      "working on 13      add bond  unIndexed  ORtype :\n",
      "[#6X4:1]~[#6X4:2]-[#6X4:3] {'action': 'add', 'atomOrBond': 'bond', 'whichAtmBnd': 'unIndexed', 'ANDorOR': 'ORtype'}\n",
      "  Failed\n",
      "\n",
      "working on 14   delete atom      atom1 ANDtype :\n",
      "[#6X4:1]~[#6X4:2]-[#6X4:3] {'action': 'delete', 'atomOrBond': 'atom', 'whichAtmBnd': 'atom1', 'ANDorOR': 'ANDtype'}\n",
      "MoveNwxfrag changeling: ['#6X4'] []\n",
      "MoveNwxfrag got ANDtypes: []\n",
      "existing list is already empty; will not delete\n",
      "  Failed\n",
      "\n",
      "working on 15   delete atom      atom1  ORtype :\n",
      "[#6X4:1]~[#6X4:2]-[#6X4:3] {'action': 'delete', 'atomOrBond': 'atom', 'whichAtmBnd': 'atom1', 'ANDorOR': 'ORtype'}\n",
      "MoveNwxfrag changeling: ['#6X4'] []\n",
      "MoveNwxfrag got ORtypes: ['#6X4']\n",
      "will not delete indexed atom or bond with only one type\n",
      "  Failed\n",
      "\n",
      "working on 16   delete atom      atom2 ANDtype :\n",
      "[#6X4:1]~[#6X4:2]-[#6X4:3] {'action': 'delete', 'atomOrBond': 'atom', 'whichAtmBnd': 'atom2', 'ANDorOR': 'ANDtype'}\n",
      "MoveNwxfrag changeling: ['#6X4'] []\n",
      "MoveNwxfrag got ANDtypes: []\n",
      "existing list is already empty; will not delete\n",
      "  Failed\n",
      "\n",
      "working on 17   delete atom      atom2  ORtype :\n",
      "[#6X4:1]~[#6X4:2]-[#6X4:3] {'action': 'delete', 'atomOrBond': 'atom', 'whichAtmBnd': 'atom2', 'ANDorOR': 'ORtype'}\n",
      "MoveNwxfrag changeling: ['#6X4'] []\n",
      "MoveNwxfrag got ORtypes: ['#6X4']\n",
      "will not delete indexed atom or bond with only one type\n",
      "  Failed\n",
      "\n",
      "working on 18   delete atom      atom3 ANDtype :\n",
      "[#6X4:1]~[#6X4:2]-[#6X4:3] {'action': 'delete', 'atomOrBond': 'atom', 'whichAtmBnd': 'atom3', 'ANDorOR': 'ANDtype'}\n",
      "MoveNwxfrag changeling: ['#6X4'] []\n",
      "MoveNwxfrag got ANDtypes: []\n",
      "existing list is already empty; will not delete\n",
      "  Failed\n",
      "\n",
      "working on 19   delete atom      atom3  ORtype :\n",
      "[#6X4:1]~[#6X4:2]-[#6X4:3] {'action': 'delete', 'atomOrBond': 'atom', 'whichAtmBnd': 'atom3', 'ANDorOR': 'ORtype'}\n",
      "MoveNwxfrag changeling: ['#6X4'] []\n",
      "MoveNwxfrag got ORtypes: ['#6X4']\n",
      "will not delete indexed atom or bond with only one type\n",
      "  Failed\n",
      "\n",
      "working on 20   delete atom  unIndexed ANDtype :\n",
      "[#6X4:1]~[#6X4:2]-[#6X4:3] {'action': 'delete', 'atomOrBond': 'atom', 'whichAtmBnd': 'unIndexed', 'ANDorOR': 'ANDtype'}\n",
      "  Failed\n",
      "\n",
      "working on 21   delete atom  unIndexed  ORtype :\n",
      "[#6X4:1]~[#6X4:2]-[#6X4:3] {'action': 'delete', 'atomOrBond': 'atom', 'whichAtmBnd': 'unIndexed', 'ANDorOR': 'ORtype'}\n",
      "  Failed\n",
      "\n",
      "working on 22   delete bond      bond1 ANDtype :\n",
      "[#6X4:1]~[#6X4:2]-[#6X4:3] {'action': 'delete', 'atomOrBond': 'bond', 'whichAtmBnd': 'bond1', 'ANDorOR': 'ANDtype'}\n",
      "MoveNwxfrag changeling: [] []\n",
      "MoveNwxfrag got ANDtypes: []\n",
      "existing list is already empty; will not delete\n",
      "  Failed\n",
      "\n",
      "working on 23   delete bond      bond1  ORtype :\n",
      "[#6X4:1]~[#6X4:2]-[#6X4:3] {'action': 'delete', 'atomOrBond': 'bond', 'whichAtmBnd': 'bond1', 'ANDorOR': 'ORtype'}\n",
      "MoveNwxfrag changeling: [] []\n",
      "MoveNwxfrag got ORtypes: []\n",
      "existing list is already empty; will not delete\n",
      "  Failed\n",
      "\n",
      "working on 24   delete bond      bond2 ANDtype :\n",
      "[#6X4:1]~[#6X4:2]-[#6X4:3] {'action': 'delete', 'atomOrBond': 'bond', 'whichAtmBnd': 'bond2', 'ANDorOR': 'ANDtype'}\n",
      "MoveNwxfrag changeling: ['-'] []\n",
      "MoveNwxfrag got ANDtypes: []\n",
      "existing list is already empty; will not delete\n",
      "  Failed\n",
      "\n",
      "working on 25   delete bond      bond2  ORtype :\n",
      "[#6X4:1]~[#6X4:2]-[#6X4:3] {'action': 'delete', 'atomOrBond': 'bond', 'whichAtmBnd': 'bond2', 'ANDorOR': 'ORtype'}\n",
      "MoveNwxfrag changeling: ['-'] []\n",
      "MoveNwxfrag got ORtypes: ['-']\n",
      "will not delete indexed atom or bond with only one type\n",
      "  Failed\n",
      "\n",
      "working on 26   delete bond  unIndexed ANDtype :\n",
      "[#6X4:1]~[#6X4:2]-[#6X4:3] {'action': 'delete', 'atomOrBond': 'bond', 'whichAtmBnd': 'unIndexed', 'ANDorOR': 'ANDtype'}\n",
      "  Failed\n",
      "\n",
      "working on 27   delete bond  unIndexed  ORtype :\n",
      "[#6X4:1]~[#6X4:2]-[#6X4:3] {'action': 'delete', 'atomOrBond': 'bond', 'whichAtmBnd': 'unIndexed', 'ANDorOR': 'ORtype'}\n",
      "  Failed\n",
      "\n",
      "working on 28 joinAtom atom      atom1  ORtype :\n",
      "[#6X4:1]~[#6X4:2]-[#6X4:3] {'action': 'joinAtom', 'atomOrBond': 'atom', 'whichAtmBnd': 'atom1', 'ANDorOR': 'ORtype'}\n",
      "MoveNwxfrag changeling: ['#6X4'] []\n",
      "MoveNwxfrag got ORtypes: ['#6X4']\n",
      "EffectMoveOnNwxfragList: attaching [ #8X1 ] to existing atom: ['#6X4']\n",
      "  Succeeded : [#6X4:1](~[#6X4:2]-[#6X4:3])~[#8X1]\n",
      "\n",
      "working on 29 joinAtom atom      atom2  ORtype :\n",
      "[#6X4:1]~[#6X4:2]-[#6X4:3] {'action': 'joinAtom', 'atomOrBond': 'atom', 'whichAtmBnd': 'atom2', 'ANDorOR': 'ORtype'}\n",
      "MoveNwxfrag changeling: ['#6X4'] []\n",
      "MoveNwxfrag got ORtypes: ['#6X4']\n",
      "EffectMoveOnNwxfragList: attaching [ #8X4 ] to existing atom: ['#6X4']\n",
      "  Succeeded : [#6X4:1]~[#6X4:2](-[#6X4:3])~[#8X4]\n",
      "\n",
      "working on 30 joinAtom atom      atom3  ORtype :\n",
      "[#6X4:1]~[#6X4:2]-[#6X4:3] {'action': 'joinAtom', 'atomOrBond': 'atom', 'whichAtmBnd': 'atom3', 'ANDorOR': 'ORtype'}\n",
      "MoveNwxfrag changeling: ['#6X4'] []\n",
      "MoveNwxfrag got ORtypes: ['#6X4']\n",
      "EffectMoveOnNwxfragList: attaching [ #1H2 ] to existing atom: ['#6X4']\n",
      "  Succeeded : [#6X4:1]~[#6X4:2]-[#6X4:3]~[#1H2]\n",
      "\n",
      "working on 31 joinAtom atom  unIndexed  ORtype :\n",
      "[#6X4:1]~[#6X4:2]-[#6X4:3] {'action': 'joinAtom', 'atomOrBond': 'atom', 'whichAtmBnd': 'unIndexed', 'ANDorOR': 'ORtype'}\n",
      "  Failed\n",
      "\n",
      "working on 32     swap atom      atom1 ANDtype :\n",
      "[#6X4:1]~[#6X4:2]-[#6X4:3] {'action': 'swap', 'atomOrBond': 'atom', 'whichAtmBnd': 'atom1', 'ANDorOR': 'ANDtype'}\n",
      "MoveNwxfrag changeling: ['#6X4'] []\n",
      "MoveNwxfrag got ANDtypes: []\n",
      "missing one of existing type or newType; will not swap\n",
      "  Failed\n",
      "\n",
      "working on 33     swap atom      atom1  ORtype :\n",
      "[#6X4:1]~[#6X4:2]-[#6X4:3] {'action': 'swap', 'atomOrBond': 'atom', 'whichAtmBnd': 'atom1', 'ANDorOR': 'ORtype'}\n",
      "MoveNwxfrag changeling: ['#6X4'] []\n",
      "MoveNwxfrag got ORtypes: ['#6X4']\n",
      "  Succeeded : [#1X1:1]~[#6X4:2]-[#6X4:3]\n",
      "\n",
      "working on 34     swap atom      atom2 ANDtype :\n",
      "[#6X4:1]~[#6X4:2]-[#6X4:3] {'action': 'swap', 'atomOrBond': 'atom', 'whichAtmBnd': 'atom2', 'ANDorOR': 'ANDtype'}\n",
      "MoveNwxfrag changeling: ['#6X4'] []\n",
      "MoveNwxfrag got ANDtypes: []\n",
      "missing one of existing type or newType; will not swap\n",
      "  Failed\n",
      "\n",
      "working on 35     swap atom      atom2  ORtype :\n",
      "[#6X4:1]~[#6X4:2]-[#6X4:3] {'action': 'swap', 'atomOrBond': 'atom', 'whichAtmBnd': 'atom2', 'ANDorOR': 'ORtype'}\n",
      "MoveNwxfrag changeling: ['#6X4'] []\n",
      "MoveNwxfrag got ORtypes: ['#6X4']\n",
      "  Succeeded : [#6X4:1]~[#6X2:2]-[#6X4:3]\n",
      "\n",
      "working on 36     swap atom      atom3 ANDtype :\n",
      "[#6X4:1]~[#6X4:2]-[#6X4:3] {'action': 'swap', 'atomOrBond': 'atom', 'whichAtmBnd': 'atom3', 'ANDorOR': 'ANDtype'}\n",
      "MoveNwxfrag changeling: ['#6X4'] []\n",
      "MoveNwxfrag got ANDtypes: []\n",
      "missing one of existing type or newType; will not swap\n",
      "  Failed\n",
      "\n",
      "working on 37     swap atom      atom3  ORtype :\n",
      "[#6X4:1]~[#6X4:2]-[#6X4:3] {'action': 'swap', 'atomOrBond': 'atom', 'whichAtmBnd': 'atom3', 'ANDorOR': 'ORtype'}\n",
      "MoveNwxfrag changeling: ['#6X4'] []\n",
      "MoveNwxfrag got ORtypes: ['#6X4']\n",
      "Swapping identical types is pointless; will not swap\n",
      "  Failed\n",
      "\n",
      "working on 38     swap atom  unIndexed ANDtype :\n",
      "[#6X4:1]~[#6X4:2]-[#6X4:3] {'action': 'swap', 'atomOrBond': 'atom', 'whichAtmBnd': 'unIndexed', 'ANDorOR': 'ANDtype'}\n",
      "  Failed\n",
      "\n",
      "working on 39     swap atom  unIndexed  ORtype :\n",
      "[#6X4:1]~[#6X4:2]-[#6X4:3] {'action': 'swap', 'atomOrBond': 'atom', 'whichAtmBnd': 'unIndexed', 'ANDorOR': 'ORtype'}\n",
      "  Failed\n",
      "\n",
      "working on 40     swap bond      bond1 ANDtype :\n",
      "[#6X4:1]~[#6X4:2]-[#6X4:3] {'action': 'swap', 'atomOrBond': 'bond', 'whichAtmBnd': 'bond1', 'ANDorOR': 'ANDtype'}\n",
      "MoveNwxfrag changeling: [] []\n",
      "MoveNwxfrag got ANDtypes: []\n",
      "missing one of existing type or newType; will not swap\n",
      "  Failed\n",
      "\n",
      "working on 41     swap bond      bond1  ORtype :\n",
      "[#6X4:1]~[#6X4:2]-[#6X4:3] {'action': 'swap', 'atomOrBond': 'bond', 'whichAtmBnd': 'bond1', 'ANDorOR': 'ORtype'}\n",
      "MoveNwxfrag changeling: [] []\n",
      "MoveNwxfrag got ORtypes: []\n",
      "missing one of existing type or newType; will not swap\n",
      "  Failed\n",
      "\n",
      "working on 42     swap bond      bond2 ANDtype :\n",
      "[#6X4:1]~[#6X4:2]-[#6X4:3] {'action': 'swap', 'atomOrBond': 'bond', 'whichAtmBnd': 'bond2', 'ANDorOR': 'ANDtype'}\n",
      "MoveNwxfrag changeling: ['-'] []\n",
      "MoveNwxfrag got ANDtypes: []\n",
      "missing one of existing type or newType; will not swap\n",
      "  Failed\n",
      "\n",
      "working on 43     swap bond      bond2  ORtype :\n",
      "[#6X4:1]~[#6X4:2]-[#6X4:3] {'action': 'swap', 'atomOrBond': 'bond', 'whichAtmBnd': 'bond2', 'ANDorOR': 'ORtype'}\n",
      "MoveNwxfrag changeling: ['-'] []\n",
      "MoveNwxfrag got ORtypes: ['-']\n",
      "  Succeeded : [#6X4:1]~[#6X4:2]~[#6X4:3]\n",
      "\n",
      "working on 44     swap bond  unIndexed ANDtype :\n",
      "[#6X4:1]~[#6X4:2]-[#6X4:3] {'action': 'swap', 'atomOrBond': 'bond', 'whichAtmBnd': 'unIndexed', 'ANDorOR': 'ANDtype'}\n",
      "  Failed\n",
      "\n",
      "working on 45     swap bond  unIndexed  ORtype :\n",
      "[#6X4:1]~[#6X4:2]-[#6X4:3] {'action': 'swap', 'atomOrBond': 'bond', 'whichAtmBnd': 'unIndexed', 'ANDorOR': 'ORtype'}\n",
      "  Failed\n"
     ]
    }
   ],
   "source": [
    "# test MoveNwxfrag\n",
    "startParam = angEnv2\n",
    "param = copy.deepcopy( startParam)\n",
    "print( 'Starting with', param.asSMIRKS())\n",
    "#print( len(moveDictdb) )\n",
    "for i, moveDict in enumerate( moveDictdb):\n",
    "    param = copy.deepcopy( startParam)\n",
    "    moves =  moveDict[0]\n",
    "    print( '\\nworking on %2d %8s %4s %10s %7s :' % \n",
    "          (i, moves['action'], moves['atomOrBond'], moves['whichAtmBnd'], moves['ANDorOR']))\n",
    "    if not MoveNwxfrag( param, moves, masterComponentsWithWeights, msg):\n",
    "        print('  Failed')\n",
    "    else:\n",
    "        print('  Succeeded : %s' % ( param.asSMIRKS()))"
   ]
  },
  {
   "cell_type": "code",
   "execution_count": null,
   "metadata": {
    "collapsed": true
   },
   "outputs": [],
   "source": []
  }
 ],
 "metadata": {
  "kernelspec": {
   "display_name": "Python 2",
   "language": "python",
   "name": "python2"
  },
  "language_info": {
   "codemirror_mode": {
    "name": "ipython",
    "version": 2
   },
   "file_extension": ".py",
   "mimetype": "text/x-python",
   "name": "python",
   "nbconvert_exporter": "python",
   "pygments_lexer": "ipython2",
   "version": "2.7.11"
  }
 },
 "nbformat": 4,
 "nbformat_minor": 0
}
