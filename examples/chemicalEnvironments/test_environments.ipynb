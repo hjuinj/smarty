{
 "cells": [
  {
   "cell_type": "code",
   "execution_count": 1,
   "metadata": {
    "collapsed": false
   },
   "outputs": [],
   "source": [
    "import imp\n",
    "environment = imp.load_source('environment','../../smarty/environment.py')"
   ]
  },
  {
   "cell_type": "markdown",
   "metadata": {},
   "source": [
    "### Initialize Each Environment type\n",
    "\n",
    "* Atom\n",
    "* Bond\n",
    "* Angle\n",
    "* Torsion\n",
    "* Improper \n"
   ]
  },
  {
   "cell_type": "code",
   "execution_count": 2,
   "metadata": {
    "collapsed": false,
    "scrolled": true
   },
   "outputs": [
    {
     "name": "stdout",
     "output_type": "stream",
     "text": [
      "      atom: [*:1]\n",
      "      bond: [*:1]~[*:2]\n",
      "     angle: [*:1]~[*:2]~[*:3]\n",
      "   torsion: [*:1]~[*:2]~[*:3]~[*:4]\n",
      "  improper: [*:1]~[*:2](~[*:3])~[*:4]\n"
     ]
    }
   ],
   "source": [
    "atomEnv = environment.AtomChemicalEnvironment()\n",
    "bondEnv = environment.BondChemicalEnvironment()\n",
    "angleEnv = environment.AngleChemicalEnvironment()\n",
    "torsionEnv = environment.TorsionChemicalEnvironment()\n",
    "impropEnv = environment.ImproperChemicalEnvironment()\n",
    "\n",
    "EnvList = [atomEnv, bondEnv, angleEnv, torsionEnv, impropEnv]\n",
    "names = ['atom','bond','angle','torsion','improper']\n",
    "\n",
    "for idx, Env in enumerate(EnvList):\n",
    "    print(\"%10s: %s\" % (names[idx], Env.asSMIRKS()))"
   ]
  },
  {
   "cell_type": "markdown",
   "metadata": {
    "collapsed": true
   },
   "source": [
    "### Add descriptions to atoms\n",
    "\n",
    "You can add descriptive features to atoms, you can chose between\n",
    "\n",
    "* `ORtypes` \n",
    "* `ANDtypes` \n",
    "\n",
    "Here we'll use torsionEnv as an example since it has more random bonds and atoms to chose between"
   ]
  },
  {
   "cell_type": "code",
   "execution_count": 3,
   "metadata": {
    "collapsed": false
   },
   "outputs": [
    {
     "name": "stdout",
     "output_type": "stream",
     "text": [
      "initially:  [*:1]~[*:2]~[*:3]~[*:4]\n",
      "chose atom [*:1]\n",
      "[#1:1]~[*:2]~[*:3]~[*:4] torsion after adding '#1' to atom ORtypes\n",
      "[#1;H0:1]~[*:2]~[*:3]~[*:4] torsion after adding 'H0' to atom ANDtypes\n"
     ]
    }
   ],
   "source": [
    "# create new torsion:\n",
    "torsionEnv = environment.TorsionChemicalEnvironment()\n",
    "\n",
    "# Select and atom\n",
    "pickAtom = torsionEnv.selectAtom()\n",
    "print \"initially: \", torsionEnv.asSMIRKS()\n",
    "print \"chose atom\", pickAtom.asSMIRKS()\n",
    "\n",
    "pickAtom.addORtype('#1')\n",
    "print torsionEnv.asSMIRKS(), \"torsion after adding '#1' to atom ORtypes\" \n",
    "\n",
    "pickAtom.addANDtype('H0')\n",
    "print torsionEnv.asSMIRKS(), \"torsion after adding 'H0' to atom ANDtypes\""
   ]
  },
  {
   "cell_type": "markdown",
   "metadata": {},
   "source": [
    "### Add same descriptions to bonds\n",
    "\n",
    "Bonds have the same properties\n",
    "bonds however are defined by the atoms they connect so when selecting a bond you get three items\n",
    "\n",
    "* atom1 (atom on one end of bond)\n",
    "* atom2 (atom on the otehr end of the bond)\n",
    "* bond (bond object)\n"
   ]
  },
  {
   "cell_type": "code",
   "execution_count": 4,
   "metadata": {
    "collapsed": false
   },
   "outputs": [
    {
     "name": "stdout",
     "output_type": "stream",
     "text": [
      "initially:  [*:1]~[*:2]~[*:3]~[*:4]\n",
      "chose bond connecting [*:4] ~ [*:3]\n",
      "[*:1]~[*:2]~[*:3]-[*:4] torsion after adding '-' to bond ORtypes\n",
      "[*:1]~[*:2]~[*:3]-;@[*:4] torsion after adding '@' to bond ANDtypes\n"
     ]
    }
   ],
   "source": [
    "# create new torsion\n",
    "torsionEnv = environment.TorsionChemicalEnvironment()\n",
    "\n",
    "# pick a bond\n",
    "atom1, atom2, pickBond = torsionEnv.selectBond()\n",
    "\n",
    "print \"initially: \", torsionEnv.asSMIRKS()\n",
    "print \"chose bond connecting %s %s %s\" % (atom1.asSMIRKS(), pickBond.asSMARTS(), atom2.asSMIRKS())\n",
    "\n",
    "pickBond.addORtype('-')\n",
    "print torsionEnv.asSMIRKS(), \"torsion after adding '-' to bond ORtypes\" \n",
    "\n",
    "pickBond.addANDtype('@')\n",
    "print torsionEnv.asSMIRKS(), \"torsion after adding '@' to bond ANDtypes\"\n",
    "# Note now the bond between 1 and 2 is - instead of ~"
   ]
  },
  {
   "cell_type": "markdown",
   "metadata": {
    "collapsed": true
   },
   "source": [
    "### Add a new atom \n",
    "\n",
    "Specify an atom to attach a new atom. \n",
    "You can provide descriptors \n",
    "ORtypes and ANDtypes (AND'd to the end of the atoms' SMARTS string) \n",
    "for the atom and/or bond or leave them empty. \n",
    "\n",
    "The ORtypes and ANDtypes should be lists of strings, \n",
    "either way they will be used to create the new Atom and new Bond objects.\n",
    "\n",
    "The `addAtom` method returns the created atom."
   ]
  },
  {
   "cell_type": "code",
   "execution_count": 5,
   "metadata": {
    "collapsed": false
   },
   "outputs": [
    {
     "name": "stdout",
     "output_type": "stream",
     "text": [
      "Bond to atom [*:4]\n",
      "New atom ([#6;a]) in torsion [*:1]~[*:2]~[*:3]~[*:4]:[#6;a]\n"
     ]
    }
   ],
   "source": [
    "# create new torsion\n",
    "torsionEnv = environment.TorsionChemicalEnvironment()\n",
    "\n",
    "bondToAtom = torsionEnv.selectAtom()\n",
    "print(\"Bond to atom %s\" % bondToAtom.asSMIRKS())\n",
    "\n",
    "atomORtypes = ['#6']\n",
    "atomANDtypes = ['a']\n",
    "bondORtypes = [':']\n",
    "bondANDtypes = None\n",
    "\n",
    "# addAtom(self, bondToAtom, bondORtypes=None, bondANDtypes=None, newORtypes=None, newANDtypes=None, newAtomIndex=None)\n",
    "newAtom = torsionEnv.addAtom(bondToAtom, bondORtypes, bondANDtypes, atomORtypes, atomANDtypes, None)\n",
    "print(\"New atom (%s) in torsion %s\" % (newAtom.asSMIRKS(), torsionEnv.asSMIRKS()))"
   ]
  },
  {
   "cell_type": "markdown",
   "metadata": {},
   "source": [
    "### Remove an atom\n",
    "\n",
    "Removing an atom removes the specified atom if it meets the conditions. There are three possible outcomes. \n",
    "\n",
    "* The specified atom is a labeled atom so it cannot be removed - Returns `False`\n",
    "* The specified atom connectes two other atoms so it cannot be removed - Returns `False`\n",
    "* The specified atom is removed - Returns `True`\n",
    "\n",
    "Below are examples for each of these scenarios with a Bond type environment"
   ]
  },
  {
   "cell_type": "code",
   "execution_count": 6,
   "metadata": {
    "collapsed": false
   },
   "outputs": [
    {
     "name": "stdout",
     "output_type": "stream",
     "text": [
      "Cannot remove labeled atom [*:1]\n"
     ]
    },
    {
     "data": {
      "text/plain": [
       "False"
      ]
     },
     "execution_count": 6,
     "metadata": {},
     "output_type": "execute_result"
    }
   ],
   "source": [
    "bondEnv = environment.BondChemicalEnvironment()\n",
    "# atom1 is the first first atom in the bond\n",
    "bondEnv.removeAtom(bondEnv.atom1)"
   ]
  },
  {
   "cell_type": "code",
   "execution_count": 7,
   "metadata": {
    "collapsed": false
   },
   "outputs": [
    {
     "name": "stdout",
     "output_type": "stream",
     "text": [
      "[*:1](~[#6]~[#8])~[*:2]\n",
      "Cannot remove atom [#6] because it connects two atoms\n",
      "[*:1](~[#6])~[*:2]\n"
     ]
    }
   ],
   "source": [
    "bondEnv = environment.BondChemicalEnvironment()\n",
    "newAtom1 = bondEnv.addAtom(bondEnv.atom1, None, None, ['#6'], None)\n",
    "newAtom2 = bondEnv.addAtom(newAtom1, None, None, ['#8'], None)\n",
    "print bondEnv.asSMIRKS()\n",
    "\n",
    "# Try removing atom 1\n",
    "bondEnv.removeAtom(newAtom1)\n",
    "\n",
    "# Remove atom 2, show new SMIRKS\n",
    "bondEnv.removeAtom(newAtom2)\n",
    "print bondEnv.asSMIRKS()"
   ]
  },
  {
   "cell_type": "markdown",
   "metadata": {
    "collapsed": true
   },
   "source": [
    "### AsSMARTS\n",
    "\n",
    "This will be especially helpful for comparing this tool with our string manipulations for smarty with atom types\n",
    "It returns the SMARTS string for atom1 as a single atom. \n",
    "This will allow us to use the same comparisons we are using now in testing the chemical environment tool\n"
   ]
  },
  {
   "cell_type": "code",
   "execution_count": 8,
   "metadata": {
    "collapsed": false
   },
   "outputs": [
    {
     "name": "stdout",
     "output_type": "stream",
     "text": [
      "[#1:1]\n",
      "[#1:1]-[#6]\n",
      "[#1:1]-[#6](-[#8])(-[#8])-[#8]\n"
     ]
    }
   ],
   "source": [
    "# create atom\n",
    "atomEnv = environment.AtomChemicalEnvironment([['#1'],None])\n",
    "print atomEnv.asSMIRKS()\n",
    "carbon = atomEnv.addAtom(atomEnv.atom1, '-', None, ['#6'])\n",
    "print atomEnv.asSMIRKS()\n",
    "oxygen1 = atomEnv.addAtom(carbon, '-', None, ['#8'])\n",
    "oxygen2 = atomEnv.addAtom(carbon, '-', None, ['#8'])\n",
    "oxygen3 = atomEnv.addAtom(carbon, '-', None, ['#8'])\n",
    "print atomEnv.asSMIRKS()"
   ]
  },
  {
   "cell_type": "markdown",
   "metadata": {
    "collapsed": false
   },
   "source": [
    "### Initialize a torsion with decorated atoms\n",
    "\n",
    "Here is the documentation for initializing a torsion:\n",
    "```\n",
    "__init__(self, Atom1Info=[None, None], Bond1Info=[None, None], Atom2Info=[None, None], Bond2Info=[None, None], Atom3Info=[None, None], Bond3Info=[None, None], Atom4Info=[None, None])\n",
    "    Initialize a chemical environment corresponding to matching four atoms (torsion).\n",
    "\n",
    "    Parameters\n",
    "    -----------\n",
    "    Atom1Info, Atom2Info, Atom3Info, Atom4Info: list of sets, optional\n",
    "        Comes in the form [AtomORtypes, AtomANDtypes]\n",
    "        AtomORtypes: descriptors for the first atom that are connected with logical operation OR\n",
    "        AtomANDtypes: descriptors for the first atom that are connected with the logical operation AND\n",
    "    Bond1Info and Bond2Info, Bond3Info: list of sets, optional\n",
    "        In the form [BondORtypes, BondANDtypes] similar to atom information\n",
    "     \n",
    "    For example:\n",
    "        # Create a torsion centered around two tetravalent carbons with single ring bonds\n",
    "        CarbonInfo = [['#6'], ['X4']\n",
    "        BondInfo = [['-'], ['@']]\n",
    "        torsion = TorsionChemicalEnvironment(Atom2Info = CarbonInfo, Bond2Info = BondInfo, Atom3Info = CarbonInfo)\n",
    "        print torsion.asSMIRKS()\n",
    "        f# \"[*:1]~[#6X4:2]-;@[#6X4:3]~[*:4]\"\n",
    "```\n",
    "\n",
    "You can think of this as the order of atoms and bonds in a torsion \n",
    "\n",
    "Atom1 -(bond1)- Atom2 -(bond2)- Atom3 -(bond3)- Atom4\n",
    "\n",
    "In this case I will make the torsion centered on a carbon/carbon double bond with a hydrogen on one end and a tetravalent carbon on the other. \n"
   ]
  },
  {
   "cell_type": "code",
   "execution_count": 9,
   "metadata": {
    "collapsed": false
   },
   "outputs": [],
   "source": [
    "# define atoms for torsion\n",
    "hydrogen = [['#1'],None]\n",
    "triC = [['#6'], ['X3']]\n",
    "tetraC = [['#6'], ['X4']]\n",
    "\n",
    "#define bonds for torsion\n",
    "singlebond = [['-'],None]\n",
    "doublebond = [['='], None]\n",
    "\n",
    "# initiate torsion\n",
    "torsion = environment.TorsionChemicalEnvironment(hydrogen, singlebond, triC, doublebond, triC, singlebond, tetraC)\n"
   ]
  },
  {
   "cell_type": "code",
   "execution_count": null,
   "metadata": {
    "collapsed": true
   },
   "outputs": [],
   "source": []
  }
 ],
 "metadata": {
  "kernelspec": {
   "display_name": "Python 2",
   "language": "python",
   "name": "python2"
  },
  "language_info": {
   "codemirror_mode": {
    "name": "ipython",
    "version": 2
   },
   "file_extension": ".py",
   "mimetype": "text/x-python",
   "name": "python",
   "nbconvert_exporter": "python",
   "pygments_lexer": "ipython2",
   "version": "2.7.11"
  }
 },
 "nbformat": 4,
 "nbformat_minor": 0
}
